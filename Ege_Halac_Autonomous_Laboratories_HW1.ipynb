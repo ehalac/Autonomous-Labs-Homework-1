{
  "nbformat": 4,
  "nbformat_minor": 0,
  "metadata": {
    "kernelspec": {
      "display_name": "Python 3",
      "language": "python",
      "name": "python3"
    },
    "language_info": {
      "codemirror_mode": {
        "name": "ipython",
        "version": 3
      },
      "file_extension": ".py",
      "mimetype": "text/x-python",
      "name": "python",
      "nbconvert_exporter": "python",
      "pygments_lexer": "ipython3",
      "version": "3.7.6"
    },
    "colab": {
      "name": "Ege Halac_Autonomous_Laboratories_HW1.ipynb",
      "provenance": [],
      "collapsed_sections": []
    }
  },
  "cells": [
    {
      "cell_type": "markdown",
      "metadata": {
        "id": "jsIJwV7hDmrI"
      },
      "source": [
        "# Exploring color space\n",
        "\n",
        "[Roch et al.](https://s3-eu-west-1.amazonaws.com/itempdf74155353254prod/5953606/ChemOS__An_Orchestration_Software_to_Democratize_Autonomous_Discovery_v1.pdf) described an experiment in which they used an autonomous laboratory to explore color space. More specifically, given five colored dyes of unknown color, and a robot that could mix different quantities of up to three of dyes and then measure the color of the result, they sought to identify a combination of dyes that would give a good match to a target color.\n",
        "\n",
        "We hope to run such experiments in a physical laboratory. First, however, we have two Python functions that will approximate the behavior of a real experiment:\n",
        "\n",
        "1.   **color_mixture**(c1, f1, c2, f2, c3, f3): Given three RGB colors and their fractions (each ≥0, summing to 1), return the RGB color of the resulting mixture.\n",
        "\n",
        "2.   **color_diff**(c1, c2): Given two RGB colors, return a measure of the difference between them.\n",
        "\n",
        "We’ll use these two functions as our experimental laboratory.\n",
        "\n",
        "Your task is to write a Python program that when given a list of five RGB dyes and a target color will use as few experiments as possible to obtain the combination of three dyes that best approximates the target. We'll evaluate solutions in two ways:\n",
        "\n",
        "1. The quality of the best color combination found for a specified experiment budget (10 experiments, 100, ...)\n",
        "\n",
        "2. The number of experiments to find a combination of colors with difference less than a specified threshold\n",
        "\n",
        "We implement below a naive uniform sampling search. \n",
        "It's not too hard to do better than that. Let's see who does the best!\n",
        "\n",
        "We'll provide details soon on how to submit solutions."
      ]
    },
    {
      "cell_type": "code",
      "metadata": {
        "colab": {
          "base_uri": "https://localhost:8080/"
        },
        "id": "fkeqZO6HDmrK",
        "outputId": "cf33c770-47b9-4031-f8c2-e0677cb5e3ad"
      },
      "source": [
        "import imageio\n",
        "import matplotlib.pyplot as plt\n",
        "import random\n",
        "\n",
        "!pip install colormath\n",
        "# https://python-colormath.readthedocs.io/en/latest/color_objects.html\n",
        "from colormath.color_objects import sRGBColor, LabColor\n",
        "from colormath.color_conversions import convert_color\n",
        "from colormath.color_diff import delta_e_cie2000\n",
        "\n",
        "import matplotlib.pyplot as plt\n",
        "import matplotlib.patches as patches\n",
        "import decimal\n",
        "import itertools"
      ],
      "execution_count": 2,
      "outputs": [
        {
          "output_type": "stream",
          "name": "stdout",
          "text": [
            "Collecting colormath\n",
            "  Downloading colormath-3.0.0.tar.gz (39 kB)\n",
            "Requirement already satisfied: numpy in /usr/local/lib/python3.7/dist-packages (from colormath) (1.21.5)\n",
            "Requirement already satisfied: networkx>=2.0 in /usr/local/lib/python3.7/dist-packages (from colormath) (2.6.3)\n",
            "Building wheels for collected packages: colormath\n",
            "  Building wheel for colormath (setup.py) ... \u001b[?25l\u001b[?25hdone\n",
            "  Created wheel for colormath: filename=colormath-3.0.0-py3-none-any.whl size=39408 sha256=d2e5af93742d07fe83a55af4e5ce2b4c5537d110c2130d73645ff581ac79e4df\n",
            "  Stored in directory: /root/.cache/pip/wheels/1a/d7/a7/458a4632ccc8bfe436f5e9db9fef1aa84e5d243a1b4b4c7b59\n",
            "Successfully built colormath\n",
            "Installing collected packages: colormath\n",
            "Successfully installed colormath-3.0.0\n"
          ]
        }
      ]
    },
    {
      "cell_type": "markdown",
      "metadata": {
        "id": "WXsRqROjDmrL"
      },
      "source": [
        "## Some utility functions"
      ]
    },
    {
      "cell_type": "code",
      "metadata": {
        "id": "gihnOglhDmrL"
      },
      "source": [
        "red   = sRGBColor(1.0, 0.0, 0.0) #Defines the different colors \n",
        "green = sRGBColor(0.0, 1.0, 0.0)\n",
        "blue  = sRGBColor(0.0, 0.0, 1.0)\n",
        "\n",
        "def random_color(): # Gets a random color\n",
        "    color = sRGBColor(random.random(), random.random(), random.random())\n",
        "    return(color)\n",
        "\n",
        "def show_colors(colors): # calls function after\n",
        "    show_colors_at_width(0.5, colors)\n",
        "\n",
        "def show_colors_at_width(width, colors): #Takes a width and a color to return color image\n",
        "    num_colors = len(colors)\n",
        "    size = width/num_colors\n",
        "    fig, ax = plt.subplots(figsize=(num_colors*width,width))\n",
        "    ax.plot([0,width], [0,0.2*width], color='w', alpha=0)\n",
        "    ax.set_xlim([0,width])\n",
        "    ax.set_ylim([0,size])\n",
        "    ax.get_xaxis().set_visible(False)\n",
        "    ax.get_yaxis().set_visible(False)\n",
        "    plt.box(False)\n",
        "\n",
        "    for c, i in zip(colors, range(num_colors)):\n",
        "        ax.add_patch( patches.Rectangle((i*size, 0),   size, size, facecolor = c.get_rgb_hex()) )\n",
        "    plt.show()"
      ],
      "execution_count": 3,
      "outputs": []
    },
    {
      "cell_type": "code",
      "metadata": {
        "id": "qUpsMuwNDmrM"
      },
      "source": [
        "def drange(x, y, jump):\n",
        "    while x < y:\n",
        "        yield float(x)\n",
        "        x += decimal.Decimal(jump)"
      ],
      "execution_count": 4,
      "outputs": []
    },
    {
      "cell_type": "markdown",
      "metadata": {
        "id": "a2kqjvBqDmrM"
      },
      "source": [
        "## Our experimental lab supports mixing and color differencing"
      ]
    },
    {
      "cell_type": "code",
      "metadata": {
        "id": "83MitPstDmrM"
      },
      "source": [
        "def combine_colors(color1, f1, color2, f2, color3, f3):\n",
        "    #if f1<0 or f1>1.0 or f2<0 or f2>1.0 or f3<0 or f3>1.0 or f1+f2+f3!=1.0:\n",
        "    #    print(f'Bad fractions: {f1}, {f2}, {f3}')\n",
        "    #    return(-1)\n",
        "    (r1, g1, b1) = color1.get_value_tuple()\n",
        "    (r2, g2, b2) = color2.get_value_tuple()\n",
        "    (r3, g3, b3) = color3.get_value_tuple()\n",
        "    new_color = sRGBColor(r1*f1 + r2*f2 + r3*f3, g1*f1 + g2*f2 + g3*f3, b1*f1 + b2*f2 + b3*f3)\n",
        "    return new_color\n",
        "\n",
        "# See https://dev.to/tejeshreddy/color-difference-between-2-colours-using-python-182b\n",
        "def color_diff(color1_rgb, color2_rgb):\n",
        "    color1_lab = convert_color(color1_rgb, LabColor)\n",
        "    color2_lab = convert_color(color2_rgb, LabColor)\n",
        "    delta_e = delta_e_cie2000(color1_lab, color2_lab)\n",
        "    return(delta_e)"
      ],
      "execution_count": 5,
      "outputs": []
    },
    {
      "cell_type": "markdown",
      "metadata": {
        "id": "As1qrhHwDmrN"
      },
      "source": [
        "## A naive uniform sampling strategy"
      ]
    },
    {
      "cell_type": "code",
      "metadata": {
        "id": "D5zie3c2DmrN"
      },
      "source": [
        "def uniform_sampling(target, colors, number):\n",
        "    best_color = None\n",
        "    best_diff  = -1\n",
        "    increment  = 1.0/number\n",
        "    for [color1, color2, color3] in itertools.combinations(colors, 3):\n",
        "        for i in drange(0, 1, increment):\n",
        "            for j in drange(0, 1-i, increment):\n",
        "                k = 1.0-i-j\n",
        "                mix  = combine_colors(color1, i, color2, j, color3, k)\n",
        "                diff = color_diff(target, mix)\n",
        "                if diff < best_diff or best_diff < 0:\n",
        "                    best_diff = diff\n",
        "                    best_color = (mix, color1, i, color2, j, color3, k, mix)\n",
        "                    #print(f'{round(i,3)}, {round(j,3)}, {round(k,3)} with diff {round(best_diff,3)}')\n",
        "                \n",
        "    return(best_diff, best_color)"
      ],
      "execution_count": 6,
      "outputs": []
    },
    {
      "cell_type": "markdown",
      "metadata": {
        "id": "fAcy6094DmrO"
      },
      "source": [
        "### A simple example that you can surely improve on: it uses a lot of experiments to find a combination with a difference of 8.3"
      ]
    },
    {
      "cell_type": "code",
      "metadata": {
        "colab": {
          "base_uri": "https://localhost:8080/",
          "height": 76
        },
        "id": "b6KPzyeTDmrO",
        "outputId": "78213d64-2c6f-4d4f-98e1-5c4f0e7d65c5"
      },
      "source": [
        "colors = [red, green, blue]\n",
        "target = sRGBColor(0.123, 0.456, 0.789)\n",
        "\n",
        "(best_diff, (best, color1, f1, color2, f2, color3, f3, mix)) = uniform_sampling(target, colors, 100)\n",
        "\n",
        "print(f'Target, three colors ({round(f1,3)}, {round(f2,3)}, {round(f3,3)}), mix with diff {round(best_diff,2)}:')\n",
        "show_colors([target, color1, color2, color3, mix])"
      ],
      "execution_count": null,
      "outputs": [
        {
          "output_type": "stream",
          "name": "stdout",
          "text": [
            "Target, three colors (0.0, 0.39, 0.61), mix with diff 8.29:\n"
          ]
        },
        {
          "output_type": "display_data",
          "data": {
            "text/plain": [
              "<Figure size 180x36 with 1 Axes>"
            ],
            "image/png": "[encoded data removed]"
          },
          "metadata": {
            "needs_background": "light"
          }
        }
      ]
    },
    {
      "cell_type": "markdown",
      "metadata": {
        "id": "W6cPSmItDmrO"
      },
      "source": [
        "## Your mission: Implement a better sampling strategy \n"
      ]
    },
    {
      "cell_type": "markdown",
      "source": [
        "## I am using the *SciPy* optimizer module for this task."
      ],
      "metadata": {
        "id": "Wx7dJOBgw777"
      }
    },
    {
      "cell_type": "code",
      "source": [
        "import scipy\n",
        "from scipy.optimize import minimize"
      ],
      "metadata": {
        "id": "cvQmFZ6ExGgE"
      },
      "execution_count": 7,
      "outputs": []
    },
    {
      "cell_type": "markdown",
      "source": [
        "## Constraints on the optimization: \n",
        "\n",
        "* The sum of the three ratios has to equal 1\n",
        "* Each ratio has to be a non-negative number\n",
        "* Each ratio has to be less than or equal to 1\n",
        "\n",
        "The constraints are defined below to be passed onto the minimize module"
      ],
      "metadata": {
        "id": "wXf6qlRqxjAT"
      }
    },
    {
      "cell_type": "code",
      "source": [
        "#Constraints for the optimizer.\n",
        "\n",
        "constraints = [\n",
        "        #Constraint 1\n",
        "        {'type': 'eq', 'fun' : lambda x : (x[0] + x[1] + x[2]) - 1.0}, \n",
        "\n",
        "        #Constraint 2 \n",
        "        {'type': 'ineq', 'fun' : lambda x : x[0]}, \n",
        "\n",
        "        {'type': 'ineq', 'fun' : lambda x : x[1]},\n",
        "        {'type': 'ineq', 'fun' : lambda x : x[2]},\n",
        "\n",
        "        #Constraint 3 \n",
        "        {'type': 'ineq', 'fun' : lambda x : 1.0- x[0]},   \n",
        "        {'type': 'ineq', 'fun' : lambda x : 1.0 - x[1]},\n",
        "        {'type': 'ineq', 'fun' : lambda x : 1.0 - x[2]},\n",
        "]\n"
      ],
      "metadata": {
        "id": "lOg9TFegwWG2"
      },
      "execution_count": 8,
      "outputs": []
    },
    {
      "cell_type": "markdown",
      "source": [
        "##Objective/Loss function:"
      ],
      "metadata": {
        "id": "G5QY9vBvyWNv"
      }
    },
    {
      "cell_type": "code",
      "source": [
        "# Takes in the colors (tuple) to be mixed and their ratios (array), and compares it to the target color (sRGBColor object) through color_diff method\n",
        "def objective_func(mixing_ratios, mixing_colors, target):\n",
        "  combination = combine_colors(mixing_colors[0], mixing_ratios[0], mixing_colors[1], mixing_ratios[1], mixing_colors[2], mixing_ratios[2])\n",
        "  difference = color_diff(combination, target)\n",
        "  return difference"
      ],
      "metadata": {
        "id": "ODFERhrYyft8"
      },
      "execution_count": 9,
      "outputs": []
    },
    {
      "cell_type": "markdown",
      "source": [
        "##Optimization Loop for Part 1"
      ],
      "metadata": {
        "id": "qA3rpyPX0M0c"
      }
    },
    {
      "cell_type": "code",
      "metadata": {
        "id": "lmjG4Z7xDmrP"
      },
      "source": [
        "def optimization_loop_part_one(target, colors, maximum_iterations):\n",
        "  '''\n",
        "  Takes:\n",
        "    Target color\n",
        "    Five colors to mix\n",
        "    Maximum number of iterations to go through\n",
        "\n",
        "  Returns:\n",
        "    Distance between target color and best color the method found\n",
        "    Best triplet colors and their ratios\n",
        "    Best color that's compared to the target\n",
        "    Number of iterations it took to find the best color\n",
        "\n",
        "  '''\n",
        "\n",
        "  best_triplet_iters = 0\n",
        "  total_iters = 0 \n",
        "  best_diff = -1\n",
        "  best_colors = None\n",
        "  best_ratios = None\n",
        "\n",
        "  for [color1, color2 ,color3] in itertools.combinations(colors, 3):\n",
        "    #initial dummy guess. \n",
        "    initial_ratios = [random.random(), random.random(), random.random()]\n",
        "\n",
        "    #call to the scipy.optimize.minimize function to use the Sequential Least Squares algorithm.\n",
        "    result = minimize(objective_func,\n",
        "                      initial_ratios,\n",
        "                      args=([color1, color2, color3], target), \n",
        "                      constraints = constraints, \n",
        "                      method='SLSQP', #Sequential Least Squares\n",
        "                      options = {'maxiter': maximum_iterations/6})\n",
        "    \n",
        "\n",
        "    #If this triplet mixes closest to the target, then they are the best triplet. \n",
        "    if result.fun < best_diff or best_diff == -1 :\n",
        "      best_diff = result.fun  \n",
        "      best_colors = [color1, color2, color3]\n",
        "      best_ratios = result.x \n",
        "      best_triplet_iters = result.nfev\n",
        "\n",
        "    total_iters += result.nfev\n",
        "\n",
        "\n",
        "  return (best_diff, (best_colors[0], best_ratios[0],\n",
        "                      best_colors[1], best_ratios[1],\n",
        "                      best_colors[2], best_ratios[2]), \n",
        "          \n",
        "                      combine_colors(\n",
        "                          best_colors[0], best_ratios[0],\n",
        "                          best_colors[1], best_ratios[1],\n",
        "                          best_colors[2], best_ratios[2]), \n",
        "          \n",
        "          best_triplet_iters)"
      ],
      "execution_count": 10,
      "outputs": []
    },
    {
      "cell_type": "markdown",
      "metadata": {
        "id": "pnowrXRwKlO6"
      },
      "source": [
        "## Another test to try: Use a random set of colors"
      ]
    },
    {
      "cell_type": "code",
      "metadata": {
        "id": "L7_uOSCeDmrP",
        "colab": {
          "base_uri": "https://localhost:8080/",
          "height": 134
        },
        "outputId": "2e89574b-b4e0-44ed-a675-6c571ed46ec9"
      },
      "source": [
        "colors = [random_color(), random_color(), random_color(), random_color(), random_color()]\n",
        "target = random_color()\n",
        "\n",
        "print('Available colors:')\n",
        "show_colors(colors)\n",
        "\n",
        "(best_diff, (color1, f1, color2, f2, color3, f3), mix, iters) = optimization_loop_part_one(target, colors, 100)\n",
        "\n",
        "print(f'Target, three colors ({round(f1,3)}, {round(f2,3)}, {round(f3,3)}), mix with difference {round(best_diff,2)}:')\n",
        "show_colors([target, color1, color2, color3, mix])"
      ],
      "execution_count": null,
      "outputs": [
        {
          "output_type": "stream",
          "name": "stdout",
          "text": [
            "Available colors:\n"
          ]
        },
        {
          "output_type": "display_data",
          "data": {
            "text/plain": [
              "<Figure size 180x36 with 1 Axes>"
            ],
            "image/png": "[encoded data removed]"
          },
          "metadata": {
            "needs_background": "light"
          }
        },
        {
          "output_type": "stream",
          "name": "stdout",
          "text": [
            "Target, three colors (-0.0, -0.0, 1.0), mix with difference 7.15:\n"
          ]
        },
        {
          "output_type": "display_data",
          "data": {
            "text/plain": [
              "<Figure size 180x36 with 1 Axes>"
            ],
            "image/png": "[encoded data removed]"
          },
          "metadata": {
            "needs_background": "light"
          }
        }
      ]
    },
    {
      "cell_type": "markdown",
      "source": [
        "##Part 1: Finding the best color in N iterations"
      ],
      "metadata": {
        "id": "paih-LrN_KMJ"
      }
    },
    {
      "cell_type": "code",
      "source": [
        "import numpy as np\n",
        "\n",
        "def task_one_wrapper(max_iter, num_experiments_to_average):\n",
        "  my_best_distances = []\n",
        "  benchmark_distances = []\n",
        "  my_iteration_count = []\n",
        "  benchmark_iteration_count = []\n",
        "\n",
        "  for i in range(num_experiments_to_average):\n",
        "    print(f\"Experiment {i+1}  \\n\")\n",
        "\n",
        "    random.seed(random.randint(0, 25))\n",
        "    color_options = [random_color(), random_color(), random_color(), random_color(), random_color()]\n",
        "    target_color = random_color()\n",
        "\n",
        "    print('Available 5 colors:')\n",
        "    show_colors(color_options)\n",
        "\n",
        "    best_diff, triplet_and_ratios, best_mix, num_iters = optimization_loop_part_one(target_color, color_options, max_iter)\n",
        "    my_best_distances.append(best_diff)\n",
        "    my_iteration_count.append(num_iters)\n",
        "\n",
        "    print(f'Optimum mix ratios {round(triplet_and_ratios[1], 3)}, {round(triplet_and_ratios[3],3)}, {round(triplet_and_ratios[5], 3)} ')\n",
        "    print(f'Best difference: {round(best_diff,3)} ')\n",
        "    print(f'Number of iterations: {num_iters}')\n",
        "    print(f'Plot: target color, three best colors, closest mix (result)' )\n",
        "    show_colors([target_color, triplet_and_ratios[0], triplet_and_ratios[2], triplet_and_ratios[4], best_mix])\n",
        "\n",
        "    \n",
        "\n",
        "    print('--------------------------------')\n",
        "  \n",
        "  print (f\"Average Distance after {max_iter} is {round(np.mean(my_best_distances), 2)}\")\n",
        "  "
      ],
      "metadata": {
        "id": "t5I2v134_MD9"
      },
      "execution_count": 37,
      "outputs": []
    },
    {
      "cell_type": "markdown",
      "source": [
        "## Experiment Budget : 10 "
      ],
      "metadata": {
        "id": "cKY8qgSNUZw_"
      }
    },
    {
      "cell_type": "code",
      "source": [
        "task_one_wrapper(10, 10)"
      ],
      "metadata": {
        "colab": {
          "base_uri": "https://localhost:8080/",
          "height": 1000
        },
        "id": "BRLrIw9jUY05",
        "outputId": "0f8475ec-c8f0-4f94-dab7-5ca6d2cf9040"
      },
      "execution_count": 38,
      "outputs": [
        {
          "output_type": "stream",
          "name": "stdout",
          "text": [
            "Experiment 1  \n",
            "\n",
            "Available 5 colors:\n"
          ]
        },
        {
          "output_type": "display_data",
          "data": {
            "text/plain": [
              "<Figure size 180x36 with 1 Axes>"
            ],
            "image/png": "[encoded data removed]"
          },
          "metadata": {
            "needs_background": "light"
          }
        },
        {
          "output_type": "stream",
          "name": "stdout",
          "text": [
            "Optimum mix ratios 0.552, 0.056, 0.31 \n",
            "Best difference: 8.782 \n",
            "Number of iterations: 11\n",
            "Plot: target color, three best colors, closest mix (result)\n"
          ]
        },
        {
          "output_type": "display_data",
          "data": {
            "text/plain": [
              "<Figure size 180x36 with 1 Axes>"
            ],
            "image/png": "[encoded data removed]"
          },
          "metadata": {
            "needs_background": "light"
          }
        },
        {
          "output_type": "stream",
          "name": "stdout",
          "text": [
            "--------------------------------\n",
            "Experiment 2  \n",
            "\n",
            "Available 5 colors:\n"
          ]
        },
        {
          "output_type": "display_data",
          "data": {
            "text/plain": [
              "<Figure size 180x36 with 1 Axes>"
            ],
            "image/png": "[encoded data removed]"
          },
          "metadata": {
            "needs_background": "light"
          }
        },
        {
          "output_type": "stream",
          "name": "stdout",
          "text": [
            "Optimum mix ratios 1.0, -0.0, 0.0 \n",
            "Best difference: 25.549 \n",
            "Number of iterations: 10\n",
            "Plot: target color, three best colors, closest mix (result)\n"
          ]
        },
        {
          "output_type": "display_data",
          "data": {
            "text/plain": [
              "<Figure size 180x36 with 1 Axes>"
            ],
            "image/png": "[encoded data removed]"
          },
          "metadata": {
            "needs_background": "light"
          }
        },
        {
          "output_type": "stream",
          "name": "stdout",
          "text": [
            "--------------------------------\n",
            "Experiment 3  \n",
            "\n",
            "Available 5 colors:\n"
          ]
        },
        {
          "output_type": "display_data",
          "data": {
            "text/plain": [
              "<Figure size 180x36 with 1 Axes>"
            ],
            "image/png": "[encoded data removed]"
          },
          "metadata": {
            "needs_background": "light"
          }
        },
        {
          "output_type": "stream",
          "name": "stdout",
          "text": [
            "Optimum mix ratios 0.672, 0.454, 0.449 \n",
            "Best difference: 8.868 \n",
            "Number of iterations: 11\n",
            "Plot: target color, three best colors, closest mix (result)\n"
          ]
        },
        {
          "output_type": "display_data",
          "data": {
            "text/plain": [
              "<Figure size 180x36 with 1 Axes>"
            ],
            "image/png": "[encoded data removed]"
          },
          "metadata": {
            "needs_background": "light"
          }
        },
        {
          "output_type": "stream",
          "name": "stdout",
          "text": [
            "--------------------------------\n",
            "Experiment 4  \n",
            "\n",
            "Available 5 colors:\n"
          ]
        },
        {
          "output_type": "display_data",
          "data": {
            "text/plain": [
              "<Figure size 180x36 with 1 Axes>"
            ],
            "image/png": "[encoded data removed]"
          },
          "metadata": {
            "needs_background": "light"
          }
        },
        {
          "output_type": "stream",
          "name": "stdout",
          "text": [
            "Optimum mix ratios -0.0, 0.529, 0.471 \n",
            "Best difference: 4.494 \n",
            "Number of iterations: 10\n",
            "Plot: target color, three best colors, closest mix (result)\n"
          ]
        },
        {
          "output_type": "display_data",
          "data": {
            "text/plain": [
              "<Figure size 180x36 with 1 Axes>"
            ],
            "image/png": "[encoded data removed]"
          },
          "metadata": {
            "needs_background": "light"
          }
        },
        {
          "output_type": "stream",
          "name": "stdout",
          "text": [
            "--------------------------------\n",
            "Experiment 5  \n",
            "\n",
            "Available 5 colors:\n"
          ]
        },
        {
          "output_type": "display_data",
          "data": {
            "text/plain": [
              "<Figure size 180x36 with 1 Axes>"
            ],
            "image/png": "[encoded data removed]"
          },
          "metadata": {
            "needs_background": "light"
          }
        },
        {
          "output_type": "stream",
          "name": "stdout",
          "text": [
            "Optimum mix ratios 0.672, 0.454, 0.449 \n",
            "Best difference: 8.868 \n",
            "Number of iterations: 11\n",
            "Plot: target color, three best colors, closest mix (result)\n"
          ]
        },
        {
          "output_type": "display_data",
          "data": {
            "text/plain": [
              "<Figure size 180x36 with 1 Axes>"
            ],
            "image/png": "[encoded data removed]"
          },
          "metadata": {
            "needs_background": "light"
          }
        },
        {
          "output_type": "stream",
          "name": "stdout",
          "text": [
            "--------------------------------\n",
            "Experiment 6  \n",
            "\n",
            "Available 5 colors:\n"
          ]
        },
        {
          "output_type": "display_data",
          "data": {
            "text/plain": [
              "<Figure size 180x36 with 1 Axes>"
            ],
            "image/png": "[encoded data removed]"
          },
          "metadata": {
            "needs_background": "light"
          }
        },
        {
          "output_type": "stream",
          "name": "stdout",
          "text": [
            "Optimum mix ratios -0.0, 0.529, 0.471 \n",
            "Best difference: 4.494 \n",
            "Number of iterations: 10\n",
            "Plot: target color, three best colors, closest mix (result)\n"
          ]
        },
        {
          "output_type": "display_data",
          "data": {
            "text/plain": [
              "<Figure size 180x36 with 1 Axes>"
            ],
            "image/png": "[encoded data removed]"
          },
          "metadata": {
            "needs_background": "light"
          }
        },
        {
          "output_type": "stream",
          "name": "stdout",
          "text": [
            "--------------------------------\n",
            "Experiment 7  \n",
            "\n",
            "Available 5 colors:\n"
          ]
        },
        {
          "output_type": "display_data",
          "data": {
            "text/plain": [
              "<Figure size 180x36 with 1 Axes>"
            ],
            "image/png": "[encoded data removed]"
          },
          "metadata": {
            "needs_background": "light"
          }
        },
        {
          "output_type": "stream",
          "name": "stdout",
          "text": [
            "Optimum mix ratios 0.672, 0.454, 0.449 \n",
            "Best difference: 8.868 \n",
            "Number of iterations: 11\n",
            "Plot: target color, three best colors, closest mix (result)\n"
          ]
        },
        {
          "output_type": "display_data",
          "data": {
            "text/plain": [
              "<Figure size 180x36 with 1 Axes>"
            ],
            "image/png": "[encoded data removed]"
          },
          "metadata": {
            "needs_background": "light"
          }
        },
        {
          "output_type": "stream",
          "name": "stdout",
          "text": [
            "--------------------------------\n",
            "Experiment 8  \n",
            "\n",
            "Available 5 colors:\n"
          ]
        },
        {
          "output_type": "display_data",
          "data": {
            "text/plain": [
              "<Figure size 180x36 with 1 Axes>"
            ],
            "image/png": "[encoded data removed]"
          },
          "metadata": {
            "needs_background": "light"
          }
        },
        {
          "output_type": "stream",
          "name": "stdout",
          "text": [
            "Optimum mix ratios -0.0, 0.529, 0.471 \n",
            "Best difference: 4.494 \n",
            "Number of iterations: 10\n",
            "Plot: target color, three best colors, closest mix (result)\n"
          ]
        },
        {
          "output_type": "display_data",
          "data": {
            "text/plain": [
              "<Figure size 180x36 with 1 Axes>"
            ],
            "image/png": "[encoded data removed]"
          },
          "metadata": {
            "needs_background": "light"
          }
        },
        {
          "output_type": "stream",
          "name": "stdout",
          "text": [
            "--------------------------------\n",
            "Experiment 9  \n",
            "\n",
            "Available 5 colors:\n"
          ]
        },
        {
          "output_type": "display_data",
          "data": {
            "text/plain": [
              "<Figure size 180x36 with 1 Axes>"
            ],
            "image/png": "[encoded data removed]"
          },
          "metadata": {
            "needs_background": "light"
          }
        },
        {
          "output_type": "stream",
          "name": "stdout",
          "text": [
            "Optimum mix ratios 0.672, 0.454, 0.449 \n",
            "Best difference: 8.868 \n",
            "Number of iterations: 11\n",
            "Plot: target color, three best colors, closest mix (result)\n"
          ]
        },
        {
          "output_type": "display_data",
          "data": {
            "text/plain": [
              "<Figure size 180x36 with 1 Axes>"
            ],
            "image/png": "[encoded data removed]"
          },
          "metadata": {
            "needs_background": "light"
          }
        },
        {
          "output_type": "stream",
          "name": "stdout",
          "text": [
            "--------------------------------\n",
            "Experiment 10  \n",
            "\n",
            "Available 5 colors:\n"
          ]
        },
        {
          "output_type": "display_data",
          "data": {
            "text/plain": [
              "<Figure size 180x36 with 1 Axes>"
            ],
            "image/png": "[encoded data removed]"
          },
          "metadata": {
            "needs_background": "light"
          }
        },
        {
          "output_type": "stream",
          "name": "stdout",
          "text": [
            "Optimum mix ratios -0.0, 0.529, 0.471 \n",
            "Best difference: 4.494 \n",
            "Number of iterations: 10\n",
            "Plot: target color, three best colors, closest mix (result)\n"
          ]
        },
        {
          "output_type": "display_data",
          "data": {
            "text/plain": [
              "<Figure size 180x36 with 1 Axes>"
            ],
            "image/png": "[encoded data removed]"
          },
          "metadata": {
            "needs_background": "light"
          }
        },
        {
          "output_type": "stream",
          "name": "stdout",
          "text": [
            "--------------------------------\n",
            "Average Distance after 10 is 8.78\n"
          ]
        }
      ]
    },
    {
      "cell_type": "markdown",
      "source": [
        "##Experiment budget: 50"
      ],
      "metadata": {
        "id": "yAqKl4pv0-m7"
      }
    },
    {
      "cell_type": "code",
      "source": [
        "task_one_wrapper(50, 10)"
      ],
      "metadata": {
        "id": "qkEzBgbp2ZzL",
        "colab": {
          "base_uri": "https://localhost:8080/",
          "height": 1000
        },
        "outputId": "01ee7549-0395-4bf0-dae2-48a1ddcd78c7"
      },
      "execution_count": 39,
      "outputs": [
        {
          "output_type": "stream",
          "name": "stdout",
          "text": [
            "Experiment 1  \n",
            "\n",
            "Available 5 colors:\n"
          ]
        },
        {
          "output_type": "display_data",
          "data": {
            "text/plain": [
              "<Figure size 180x36 with 1 Axes>"
            ],
            "image/png": "[encoded data removed]"
          },
          "metadata": {
            "needs_background": "light"
          }
        },
        {
          "output_type": "stream",
          "name": "stdout",
          "text": [
            "Optimum mix ratios 0.892, 0.017, 0.091 \n",
            "Best difference: 9.086 \n",
            "Number of iterations: 38\n",
            "Plot: target color, three best colors, closest mix (result)\n"
          ]
        },
        {
          "output_type": "display_data",
          "data": {
            "text/plain": [
              "<Figure size 180x36 with 1 Axes>"
            ],
            "image/png": "[encoded data removed]"
          },
          "metadata": {
            "needs_background": "light"
          }
        },
        {
          "output_type": "stream",
          "name": "stdout",
          "text": [
            "--------------------------------\n",
            "Experiment 2  \n",
            "\n",
            "Available 5 colors:\n"
          ]
        },
        {
          "output_type": "display_data",
          "data": {
            "text/plain": [
              "<Figure size 180x36 with 1 Axes>"
            ],
            "image/png": "[encoded data removed]"
          },
          "metadata": {
            "needs_background": "light"
          }
        },
        {
          "output_type": "stream",
          "name": "stdout",
          "text": [
            "Optimum mix ratios 0.128, 0.225, 0.647 \n",
            "Best difference: 0.739 \n",
            "Number of iterations: 49\n",
            "Plot: target color, three best colors, closest mix (result)\n"
          ]
        },
        {
          "output_type": "display_data",
          "data": {
            "text/plain": [
              "<Figure size 180x36 with 1 Axes>"
            ],
            "image/png": "[encoded data removed]"
          },
          "metadata": {
            "needs_background": "light"
          }
        },
        {
          "output_type": "stream",
          "name": "stdout",
          "text": [
            "--------------------------------\n",
            "Experiment 3  \n",
            "\n",
            "Available 5 colors:\n"
          ]
        },
        {
          "output_type": "display_data",
          "data": {
            "text/plain": [
              "<Figure size 180x36 with 1 Axes>"
            ],
            "image/png": "[encoded data removed]"
          },
          "metadata": {
            "needs_background": "light"
          }
        },
        {
          "output_type": "stream",
          "name": "stdout",
          "text": [
            "Optimum mix ratios 0.892, 0.017, 0.091 \n",
            "Best difference: 9.086 \n",
            "Number of iterations: 38\n",
            "Plot: target color, three best colors, closest mix (result)\n"
          ]
        },
        {
          "output_type": "display_data",
          "data": {
            "text/plain": [
              "<Figure size 180x36 with 1 Axes>"
            ],
            "image/png": "[encoded data removed]"
          },
          "metadata": {
            "needs_background": "light"
          }
        },
        {
          "output_type": "stream",
          "name": "stdout",
          "text": [
            "--------------------------------\n",
            "Experiment 4  \n",
            "\n",
            "Available 5 colors:\n"
          ]
        },
        {
          "output_type": "display_data",
          "data": {
            "text/plain": [
              "<Figure size 180x36 with 1 Axes>"
            ],
            "image/png": "[encoded data removed]"
          },
          "metadata": {
            "needs_background": "light"
          }
        },
        {
          "output_type": "stream",
          "name": "stdout",
          "text": [
            "Optimum mix ratios 0.128, 0.225, 0.647 \n",
            "Best difference: 0.739 \n",
            "Number of iterations: 49\n",
            "Plot: target color, three best colors, closest mix (result)\n"
          ]
        },
        {
          "output_type": "display_data",
          "data": {
            "text/plain": [
              "<Figure size 180x36 with 1 Axes>"
            ],
            "image/png": "[encoded data removed]"
          },
          "metadata": {
            "needs_background": "light"
          }
        },
        {
          "output_type": "stream",
          "name": "stdout",
          "text": [
            "--------------------------------\n",
            "Experiment 5  \n",
            "\n",
            "Available 5 colors:\n"
          ]
        },
        {
          "output_type": "display_data",
          "data": {
            "text/plain": [
              "<Figure size 180x36 with 1 Axes>"
            ],
            "image/png": "[encoded data removed]"
          },
          "metadata": {
            "needs_background": "light"
          }
        },
        {
          "output_type": "stream",
          "name": "stdout",
          "text": [
            "Optimum mix ratios 0.892, 0.017, 0.091 \n",
            "Best difference: 9.086 \n",
            "Number of iterations: 38\n",
            "Plot: target color, three best colors, closest mix (result)\n"
          ]
        },
        {
          "output_type": "display_data",
          "data": {
            "text/plain": [
              "<Figure size 180x36 with 1 Axes>"
            ],
            "image/png": "[encoded data removed]"
          },
          "metadata": {
            "needs_background": "light"
          }
        },
        {
          "output_type": "stream",
          "name": "stdout",
          "text": [
            "--------------------------------\n",
            "Experiment 6  \n",
            "\n",
            "Available 5 colors:\n"
          ]
        },
        {
          "output_type": "display_data",
          "data": {
            "text/plain": [
              "<Figure size 180x36 with 1 Axes>"
            ],
            "image/png": "[encoded data removed]"
          },
          "metadata": {
            "needs_background": "light"
          }
        },
        {
          "output_type": "stream",
          "name": "stdout",
          "text": [
            "Optimum mix ratios 0.128, 0.225, 0.647 \n",
            "Best difference: 0.739 \n",
            "Number of iterations: 49\n",
            "Plot: target color, three best colors, closest mix (result)\n"
          ]
        },
        {
          "output_type": "display_data",
          "data": {
            "text/plain": [
              "<Figure size 180x36 with 1 Axes>"
            ],
            "image/png": "[encoded data removed]"
          },
          "metadata": {
            "needs_background": "light"
          }
        },
        {
          "output_type": "stream",
          "name": "stdout",
          "text": [
            "--------------------------------\n",
            "Experiment 7  \n",
            "\n",
            "Available 5 colors:\n"
          ]
        },
        {
          "output_type": "display_data",
          "data": {
            "text/plain": [
              "<Figure size 180x36 with 1 Axes>"
            ],
            "image/png": "[encoded data removed]"
          },
          "metadata": {
            "needs_background": "light"
          }
        },
        {
          "output_type": "stream",
          "name": "stdout",
          "text": [
            "Optimum mix ratios 0.892, 0.017, 0.091 \n",
            "Best difference: 9.086 \n",
            "Number of iterations: 38\n",
            "Plot: target color, three best colors, closest mix (result)\n"
          ]
        },
        {
          "output_type": "display_data",
          "data": {
            "text/plain": [
              "<Figure size 180x36 with 1 Axes>"
            ],
            "image/png": "[encoded data removed]"
          },
          "metadata": {
            "needs_background": "light"
          }
        },
        {
          "output_type": "stream",
          "name": "stdout",
          "text": [
            "--------------------------------\n",
            "Experiment 8  \n",
            "\n",
            "Available 5 colors:\n"
          ]
        },
        {
          "output_type": "display_data",
          "data": {
            "text/plain": [
              "<Figure size 180x36 with 1 Axes>"
            ],
            "image/png": "[encoded data removed]"
          },
          "metadata": {
            "needs_background": "light"
          }
        },
        {
          "output_type": "stream",
          "name": "stdout",
          "text": [
            "Optimum mix ratios 0.128, 0.225, 0.647 \n",
            "Best difference: 0.739 \n",
            "Number of iterations: 49\n",
            "Plot: target color, three best colors, closest mix (result)\n"
          ]
        },
        {
          "output_type": "display_data",
          "data": {
            "text/plain": [
              "<Figure size 180x36 with 1 Axes>"
            ],
            "image/png": "[encoded data removed]"
          },
          "metadata": {
            "needs_background": "light"
          }
        },
        {
          "output_type": "stream",
          "name": "stdout",
          "text": [
            "--------------------------------\n",
            "Experiment 9  \n",
            "\n",
            "Available 5 colors:\n"
          ]
        },
        {
          "output_type": "display_data",
          "data": {
            "text/plain": [
              "<Figure size 180x36 with 1 Axes>"
            ],
            "image/png": "[encoded data removed]"
          },
          "metadata": {
            "needs_background": "light"
          }
        },
        {
          "output_type": "stream",
          "name": "stdout",
          "text": [
            "Optimum mix ratios 0.892, 0.017, 0.091 \n",
            "Best difference: 9.086 \n",
            "Number of iterations: 38\n",
            "Plot: target color, three best colors, closest mix (result)\n"
          ]
        },
        {
          "output_type": "display_data",
          "data": {
            "text/plain": [
              "<Figure size 180x36 with 1 Axes>"
            ],
            "image/png": "[encoded data removed]"
          },
          "metadata": {
            "needs_background": "light"
          }
        },
        {
          "output_type": "stream",
          "name": "stdout",
          "text": [
            "--------------------------------\n",
            "Experiment 10  \n",
            "\n",
            "Available 5 colors:\n"
          ]
        },
        {
          "output_type": "display_data",
          "data": {
            "text/plain": [
              "<Figure size 180x36 with 1 Axes>"
            ],
            "image/png": "[encoded data removed]"
          },
          "metadata": {
            "needs_background": "light"
          }
        },
        {
          "output_type": "stream",
          "name": "stdout",
          "text": [
            "Optimum mix ratios 0.128, 0.225, 0.647 \n",
            "Best difference: 0.739 \n",
            "Number of iterations: 49\n",
            "Plot: target color, three best colors, closest mix (result)\n"
          ]
        },
        {
          "output_type": "display_data",
          "data": {
            "text/plain": [
              "<Figure size 180x36 with 1 Axes>"
            ],
            "image/png": "[encoded data removed]"
          },
          "metadata": {
            "needs_background": "light"
          }
        },
        {
          "output_type": "stream",
          "name": "stdout",
          "text": [
            "--------------------------------\n",
            "Average Distance after 50 is 4.91\n"
          ]
        }
      ]
    },
    {
      "cell_type": "markdown",
      "source": [
        "##Experiment budget: 100"
      ],
      "metadata": {
        "id": "LMuU0OBPUjNn"
      }
    },
    {
      "cell_type": "code",
      "source": [
        "task_one_wrapper(100, 10)"
      ],
      "metadata": {
        "colab": {
          "base_uri": "https://localhost:8080/",
          "height": 1000
        },
        "id": "LCtnZmEwUmIU",
        "outputId": "0a9b3ae9-769a-4767-c179-a85c14535058"
      },
      "execution_count": 45,
      "outputs": [
        {
          "output_type": "stream",
          "name": "stdout",
          "text": [
            "Experiment 1  \n",
            "\n",
            "Available 5 colors:\n"
          ]
        },
        {
          "output_type": "display_data",
          "data": {
            "text/plain": [
              "<Figure size 180x36 with 1 Axes>"
            ],
            "image/png": "[encoded data removed]"
          },
          "metadata": {
            "needs_background": "light"
          }
        },
        {
          "output_type": "stream",
          "name": "stdout",
          "text": [
            "Optimum mix ratios 0.565, 0.152, 0.283 \n",
            "Best difference: 25.151 \n",
            "Number of iterations: 55\n",
            "Plot: target color, three best colors, closest mix (result)\n"
          ]
        },
        {
          "output_type": "display_data",
          "data": {
            "text/plain": [
              "<Figure size 180x36 with 1 Axes>"
            ],
            "image/png": "[encoded data removed]"
          },
          "metadata": {
            "needs_background": "light"
          }
        },
        {
          "output_type": "stream",
          "name": "stdout",
          "text": [
            "--------------------------------\n",
            "Experiment 2  \n",
            "\n",
            "Available 5 colors:\n"
          ]
        },
        {
          "output_type": "display_data",
          "data": {
            "text/plain": [
              "<Figure size 180x36 with 1 Axes>"
            ],
            "image/png": "[encoded data removed]"
          },
          "metadata": {
            "needs_background": "light"
          }
        },
        {
          "output_type": "stream",
          "name": "stdout",
          "text": [
            "Optimum mix ratios 0.428, 0.116, 0.456 \n",
            "Best difference: 0.839 \n",
            "Number of iterations: 57\n",
            "Plot: target color, three best colors, closest mix (result)\n"
          ]
        },
        {
          "output_type": "display_data",
          "data": {
            "text/plain": [
              "<Figure size 180x36 with 1 Axes>"
            ],
            "image/png": "[encoded data removed]"
          },
          "metadata": {
            "needs_background": "light"
          }
        },
        {
          "output_type": "stream",
          "name": "stdout",
          "text": [
            "--------------------------------\n",
            "Experiment 3  \n",
            "\n",
            "Available 5 colors:\n"
          ]
        },
        {
          "output_type": "display_data",
          "data": {
            "text/plain": [
              "<Figure size 180x36 with 1 Axes>"
            ],
            "image/png": "[encoded data removed]"
          },
          "metadata": {
            "needs_background": "light"
          }
        },
        {
          "output_type": "stream",
          "name": "stdout",
          "text": [
            "Optimum mix ratios 1.0, 0.0, -0.0 \n",
            "Best difference: 25.549 \n",
            "Number of iterations: 15\n",
            "Plot: target color, three best colors, closest mix (result)\n"
          ]
        },
        {
          "output_type": "display_data",
          "data": {
            "text/plain": [
              "<Figure size 180x36 with 1 Axes>"
            ],
            "image/png": "[encoded data removed]"
          },
          "metadata": {
            "needs_background": "light"
          }
        },
        {
          "output_type": "stream",
          "name": "stdout",
          "text": [
            "--------------------------------\n",
            "Experiment 4  \n",
            "\n",
            "Available 5 colors:\n"
          ]
        },
        {
          "output_type": "display_data",
          "data": {
            "text/plain": [
              "<Figure size 180x36 with 1 Axes>"
            ],
            "image/png": "[encoded data removed]"
          },
          "metadata": {
            "needs_background": "light"
          }
        },
        {
          "output_type": "stream",
          "name": "stdout",
          "text": [
            "Optimum mix ratios 0.892, 0.017, 0.091 \n",
            "Best difference: 9.086 \n",
            "Number of iterations: 38\n",
            "Plot: target color, three best colors, closest mix (result)\n"
          ]
        },
        {
          "output_type": "display_data",
          "data": {
            "text/plain": [
              "<Figure size 180x36 with 1 Axes>"
            ],
            "image/png": "[encoded data removed]"
          },
          "metadata": {
            "needs_background": "light"
          }
        },
        {
          "output_type": "stream",
          "name": "stdout",
          "text": [
            "--------------------------------\n",
            "Experiment 5  \n",
            "\n",
            "Available 5 colors:\n"
          ]
        },
        {
          "output_type": "display_data",
          "data": {
            "text/plain": [
              "<Figure size 180x36 with 1 Axes>"
            ],
            "image/png": "[encoded data removed]"
          },
          "metadata": {
            "needs_background": "light"
          }
        },
        {
          "output_type": "stream",
          "name": "stdout",
          "text": [
            "Optimum mix ratios 0.128, 0.225, 0.647 \n",
            "Best difference: 0.739 \n",
            "Number of iterations: 49\n",
            "Plot: target color, three best colors, closest mix (result)\n"
          ]
        },
        {
          "output_type": "display_data",
          "data": {
            "text/plain": [
              "<Figure size 180x36 with 1 Axes>"
            ],
            "image/png": "[encoded data removed]"
          },
          "metadata": {
            "needs_background": "light"
          }
        },
        {
          "output_type": "stream",
          "name": "stdout",
          "text": [
            "--------------------------------\n",
            "Experiment 6  \n",
            "\n",
            "Available 5 colors:\n"
          ]
        },
        {
          "output_type": "display_data",
          "data": {
            "text/plain": [
              "<Figure size 180x36 with 1 Axes>"
            ],
            "image/png": "[encoded data removed]"
          },
          "metadata": {
            "needs_background": "light"
          }
        },
        {
          "output_type": "stream",
          "name": "stdout",
          "text": [
            "Optimum mix ratios 0.892, 0.017, 0.091 \n",
            "Best difference: 9.086 \n",
            "Number of iterations: 38\n",
            "Plot: target color, three best colors, closest mix (result)\n"
          ]
        },
        {
          "output_type": "display_data",
          "data": {
            "text/plain": [
              "<Figure size 180x36 with 1 Axes>"
            ],
            "image/png": "[encoded data removed]"
          },
          "metadata": {
            "needs_background": "light"
          }
        },
        {
          "output_type": "stream",
          "name": "stdout",
          "text": [
            "--------------------------------\n",
            "Experiment 7  \n",
            "\n",
            "Available 5 colors:\n"
          ]
        },
        {
          "output_type": "display_data",
          "data": {
            "text/plain": [
              "<Figure size 180x36 with 1 Axes>"
            ],
            "image/png": "[encoded data removed]"
          },
          "metadata": {
            "needs_background": "light"
          }
        },
        {
          "output_type": "stream",
          "name": "stdout",
          "text": [
            "Optimum mix ratios 0.128, 0.225, 0.647 \n",
            "Best difference: 0.739 \n",
            "Number of iterations: 49\n",
            "Plot: target color, three best colors, closest mix (result)\n"
          ]
        },
        {
          "output_type": "display_data",
          "data": {
            "text/plain": [
              "<Figure size 180x36 with 1 Axes>"
            ],
            "image/png": "[encoded data removed]"
          },
          "metadata": {
            "needs_background": "light"
          }
        },
        {
          "output_type": "stream",
          "name": "stdout",
          "text": [
            "--------------------------------\n",
            "Experiment 8  \n",
            "\n",
            "Available 5 colors:\n"
          ]
        },
        {
          "output_type": "display_data",
          "data": {
            "text/plain": [
              "<Figure size 180x36 with 1 Axes>"
            ],
            "image/png": "[encoded data removed]"
          },
          "metadata": {
            "needs_background": "light"
          }
        },
        {
          "output_type": "stream",
          "name": "stdout",
          "text": [
            "Optimum mix ratios 0.892, 0.017, 0.091 \n",
            "Best difference: 9.086 \n",
            "Number of iterations: 38\n",
            "Plot: target color, three best colors, closest mix (result)\n"
          ]
        },
        {
          "output_type": "display_data",
          "data": {
            "text/plain": [
              "<Figure size 180x36 with 1 Axes>"
            ],
            "image/png": "[encoded data removed]"
          },
          "metadata": {
            "needs_background": "light"
          }
        },
        {
          "output_type": "stream",
          "name": "stdout",
          "text": [
            "--------------------------------\n",
            "Experiment 9  \n",
            "\n",
            "Available 5 colors:\n"
          ]
        },
        {
          "output_type": "display_data",
          "data": {
            "text/plain": [
              "<Figure size 180x36 with 1 Axes>"
            ],
            "image/png": "[encoded data removed]"
          },
          "metadata": {
            "needs_background": "light"
          }
        },
        {
          "output_type": "stream",
          "name": "stdout",
          "text": [
            "Optimum mix ratios 0.128, 0.225, 0.647 \n",
            "Best difference: 0.739 \n",
            "Number of iterations: 49\n",
            "Plot: target color, three best colors, closest mix (result)\n"
          ]
        },
        {
          "output_type": "display_data",
          "data": {
            "text/plain": [
              "<Figure size 180x36 with 1 Axes>"
            ],
            "image/png": "[encoded data removed]"
          },
          "metadata": {
            "needs_background": "light"
          }
        },
        {
          "output_type": "stream",
          "name": "stdout",
          "text": [
            "--------------------------------\n",
            "Experiment 10  \n",
            "\n",
            "Available 5 colors:\n"
          ]
        },
        {
          "output_type": "display_data",
          "data": {
            "text/plain": [
              "<Figure size 180x36 with 1 Axes>"
            ],
            "image/png": "[encoded data removed]"
          },
          "metadata": {
            "needs_background": "light"
          }
        },
        {
          "output_type": "stream",
          "name": "stdout",
          "text": [
            "Optimum mix ratios 0.892, 0.017, 0.091 \n",
            "Best difference: 9.086 \n",
            "Number of iterations: 38\n",
            "Plot: target color, three best colors, closest mix (result)\n"
          ]
        },
        {
          "output_type": "display_data",
          "data": {
            "text/plain": [
              "<Figure size 180x36 with 1 Axes>"
            ],
            "image/png": "[encoded data removed]"
          },
          "metadata": {
            "needs_background": "light"
          }
        },
        {
          "output_type": "stream",
          "name": "stdout",
          "text": [
            "--------------------------------\n",
            "Average Distance after 100 is 9.01\n"
          ]
        }
      ]
    },
    {
      "cell_type": "markdown",
      "source": [
        "## Experiment budget: 1000"
      ],
      "metadata": {
        "id": "5F6KC7RgUqiX"
      }
    },
    {
      "cell_type": "code",
      "source": [
        "random.seed(random.randint(0,100))\n",
        "task_one_wrapper(1000, 10)"
      ],
      "metadata": {
        "colab": {
          "base_uri": "https://localhost:8080/",
          "height": 1000
        },
        "id": "7cTvqi8XUzRG",
        "outputId": "89b85443-05d1-44e0-af66-e25e0d42735f"
      },
      "execution_count": 52,
      "outputs": [
        {
          "output_type": "stream",
          "name": "stdout",
          "text": [
            "Experiment 1  \n",
            "\n",
            "Available 5 colors:\n"
          ]
        },
        {
          "output_type": "display_data",
          "data": {
            "text/plain": [
              "<Figure size 180x36 with 1 Axes>"
            ],
            "image/png": "[encoded data removed]"
          },
          "metadata": {
            "needs_background": "light"
          }
        },
        {
          "output_type": "stream",
          "name": "stdout",
          "text": [
            "Optimum mix ratios 0.326, -0.0, 0.674 \n",
            "Best difference: 20.952 \n",
            "Number of iterations: 37\n",
            "Plot: target color, three best colors, closest mix (result)\n"
          ]
        },
        {
          "output_type": "display_data",
          "data": {
            "text/plain": [
              "<Figure size 180x36 with 1 Axes>"
            ],
            "image/png": "[encoded data removed]"
          },
          "metadata": {
            "needs_background": "light"
          }
        },
        {
          "output_type": "stream",
          "name": "stdout",
          "text": [
            "--------------------------------\n",
            "Experiment 2  \n",
            "\n",
            "Available 5 colors:\n"
          ]
        },
        {
          "output_type": "display_data",
          "data": {
            "text/plain": [
              "<Figure size 180x36 with 1 Axes>"
            ],
            "image/png": "[encoded data removed]"
          },
          "metadata": {
            "needs_background": "light"
          }
        },
        {
          "output_type": "stream",
          "name": "stdout",
          "text": [
            "Optimum mix ratios -0.0, -0.0, 1.0 \n",
            "Best difference: 9.051 \n",
            "Number of iterations: 10\n",
            "Plot: target color, three best colors, closest mix (result)\n"
          ]
        },
        {
          "output_type": "display_data",
          "data": {
            "text/plain": [
              "<Figure size 180x36 with 1 Axes>"
            ],
            "image/png": "[encoded data removed]"
          },
          "metadata": {
            "needs_background": "light"
          }
        },
        {
          "output_type": "stream",
          "name": "stdout",
          "text": [
            "--------------------------------\n",
            "Experiment 3  \n",
            "\n",
            "Available 5 colors:\n"
          ]
        },
        {
          "output_type": "display_data",
          "data": {
            "text/plain": [
              "<Figure size 180x36 with 1 Axes>"
            ],
            "image/png": "[encoded data removed]"
          },
          "metadata": {
            "needs_background": "light"
          }
        },
        {
          "output_type": "stream",
          "name": "stdout",
          "text": [
            "Optimum mix ratios -0.0, 0.25, 0.75 \n",
            "Best difference: 22.601 \n",
            "Number of iterations: 59\n",
            "Plot: target color, three best colors, closest mix (result)\n"
          ]
        },
        {
          "output_type": "display_data",
          "data": {
            "text/plain": [
              "<Figure size 180x36 with 1 Axes>"
            ],
            "image/png": "[encoded data removed]"
          },
          "metadata": {
            "needs_background": "light"
          }
        },
        {
          "output_type": "stream",
          "name": "stdout",
          "text": [
            "--------------------------------\n",
            "Experiment 4  \n",
            "\n",
            "Available 5 colors:\n"
          ]
        },
        {
          "output_type": "display_data",
          "data": {
            "text/plain": [
              "<Figure size 180x36 with 1 Axes>"
            ],
            "image/png": "[encoded data removed]"
          },
          "metadata": {
            "needs_background": "light"
          }
        },
        {
          "output_type": "stream",
          "name": "stdout",
          "text": [
            "Optimum mix ratios 0.128, 0.225, 0.647 \n",
            "Best difference: 0.739 \n",
            "Number of iterations: 49\n",
            "Plot: target color, three best colors, closest mix (result)\n"
          ]
        },
        {
          "output_type": "display_data",
          "data": {
            "text/plain": [
              "<Figure size 180x36 with 1 Axes>"
            ],
            "image/png": "[encoded data removed]"
          },
          "metadata": {
            "needs_background": "light"
          }
        },
        {
          "output_type": "stream",
          "name": "stdout",
          "text": [
            "--------------------------------\n",
            "Experiment 5  \n",
            "\n",
            "Available 5 colors:\n"
          ]
        },
        {
          "output_type": "display_data",
          "data": {
            "text/plain": [
              "<Figure size 180x36 with 1 Axes>"
            ],
            "image/png": "[encoded data removed]"
          },
          "metadata": {
            "needs_background": "light"
          }
        },
        {
          "output_type": "stream",
          "name": "stdout",
          "text": [
            "Optimum mix ratios 0.892, 0.017, 0.091 \n",
            "Best difference: 9.086 \n",
            "Number of iterations: 38\n",
            "Plot: target color, three best colors, closest mix (result)\n"
          ]
        },
        {
          "output_type": "display_data",
          "data": {
            "text/plain": [
              "<Figure size 180x36 with 1 Axes>"
            ],
            "image/png": "[encoded data removed]"
          },
          "metadata": {
            "needs_background": "light"
          }
        },
        {
          "output_type": "stream",
          "name": "stdout",
          "text": [
            "--------------------------------\n",
            "Experiment 6  \n",
            "\n",
            "Available 5 colors:\n"
          ]
        },
        {
          "output_type": "display_data",
          "data": {
            "text/plain": [
              "<Figure size 180x36 with 1 Axes>"
            ],
            "image/png": "[encoded data removed]"
          },
          "metadata": {
            "needs_background": "light"
          }
        },
        {
          "output_type": "stream",
          "name": "stdout",
          "text": [
            "Optimum mix ratios 0.128, 0.225, 0.647 \n",
            "Best difference: 0.739 \n",
            "Number of iterations: 49\n",
            "Plot: target color, three best colors, closest mix (result)\n"
          ]
        },
        {
          "output_type": "display_data",
          "data": {
            "text/plain": [
              "<Figure size 180x36 with 1 Axes>"
            ],
            "image/png": "[encoded data removed]"
          },
          "metadata": {
            "needs_background": "light"
          }
        },
        {
          "output_type": "stream",
          "name": "stdout",
          "text": [
            "--------------------------------\n",
            "Experiment 7  \n",
            "\n",
            "Available 5 colors:\n"
          ]
        },
        {
          "output_type": "display_data",
          "data": {
            "text/plain": [
              "<Figure size 180x36 with 1 Axes>"
            ],
            "image/png": "[encoded data removed]"
          },
          "metadata": {
            "needs_background": "light"
          }
        },
        {
          "output_type": "stream",
          "name": "stdout",
          "text": [
            "Optimum mix ratios 0.892, 0.017, 0.091 \n",
            "Best difference: 9.086 \n",
            "Number of iterations: 38\n",
            "Plot: target color, three best colors, closest mix (result)\n"
          ]
        },
        {
          "output_type": "display_data",
          "data": {
            "text/plain": [
              "<Figure size 180x36 with 1 Axes>"
            ],
            "image/png": "[encoded data removed]"
          },
          "metadata": {
            "needs_background": "light"
          }
        },
        {
          "output_type": "stream",
          "name": "stdout",
          "text": [
            "--------------------------------\n",
            "Experiment 8  \n",
            "\n",
            "Available 5 colors:\n"
          ]
        },
        {
          "output_type": "display_data",
          "data": {
            "text/plain": [
              "<Figure size 180x36 with 1 Axes>"
            ],
            "image/png": "[encoded data removed]"
          },
          "metadata": {
            "needs_background": "light"
          }
        },
        {
          "output_type": "stream",
          "name": "stdout",
          "text": [
            "Optimum mix ratios 0.128, 0.225, 0.647 \n",
            "Best difference: 0.739 \n",
            "Number of iterations: 49\n",
            "Plot: target color, three best colors, closest mix (result)\n"
          ]
        },
        {
          "output_type": "display_data",
          "data": {
            "text/plain": [
              "<Figure size 180x36 with 1 Axes>"
            ],
            "image/png": "[encoded data removed]"
          },
          "metadata": {
            "needs_background": "light"
          }
        },
        {
          "output_type": "stream",
          "name": "stdout",
          "text": [
            "--------------------------------\n",
            "Experiment 9  \n",
            "\n",
            "Available 5 colors:\n"
          ]
        },
        {
          "output_type": "display_data",
          "data": {
            "text/plain": [
              "<Figure size 180x36 with 1 Axes>"
            ],
            "image/png": "[encoded data removed]"
          },
          "metadata": {
            "needs_background": "light"
          }
        },
        {
          "output_type": "stream",
          "name": "stdout",
          "text": [
            "Optimum mix ratios 0.892, 0.017, 0.091 \n",
            "Best difference: 9.086 \n",
            "Number of iterations: 38\n",
            "Plot: target color, three best colors, closest mix (result)\n"
          ]
        },
        {
          "output_type": "display_data",
          "data": {
            "text/plain": [
              "<Figure size 180x36 with 1 Axes>"
            ],
            "image/png": "[encoded data removed]"
          },
          "metadata": {
            "needs_background": "light"
          }
        },
        {
          "output_type": "stream",
          "name": "stdout",
          "text": [
            "--------------------------------\n",
            "Experiment 10  \n",
            "\n",
            "Available 5 colors:\n"
          ]
        },
        {
          "output_type": "display_data",
          "data": {
            "text/plain": [
              "<Figure size 180x36 with 1 Axes>"
            ],
            "image/png": "[encoded data removed]"
          },
          "metadata": {
            "needs_background": "light"
          }
        },
        {
          "output_type": "stream",
          "name": "stdout",
          "text": [
            "Optimum mix ratios 0.128, 0.225, 0.647 \n",
            "Best difference: 0.739 \n",
            "Number of iterations: 49\n",
            "Plot: target color, three best colors, closest mix (result)\n"
          ]
        },
        {
          "output_type": "display_data",
          "data": {
            "text/plain": [
              "<Figure size 180x36 with 1 Axes>"
            ],
            "image/png": "[encoded data removed]"
          },
          "metadata": {
            "needs_background": "light"
          }
        },
        {
          "output_type": "stream",
          "name": "stdout",
          "text": [
            "--------------------------------\n",
            "Average Distance after 1000 is 8.28\n"
          ]
        }
      ]
    },
    {
      "cell_type": "markdown",
      "source": [
        "##Part 2: Number of Iterations Needed to Reach a Specified Threshold of Distance"
      ],
      "metadata": {
        "id": "d4vuN-_LVn9q"
      }
    },
    {
      "cell_type": "code",
      "source": [
        "def is_threshold_met(xk, state):\n",
        "  '''\n",
        "  Callback method passed to the scipy.optimize.minimize function.\n",
        "  Stops the execution of the optimization loop once the threshold is met.\n",
        "  state object is passed to this function by the minimize function.\n",
        "  state.fun holds the current value of the objective function that is being minimized.\n",
        "  '''\n",
        "\n",
        "  #If the color distance reached below the threshold, then stop execution.\n",
        "  if(state.fun <= THRESHOLD):\n",
        "    return True\n"
      ],
      "metadata": {
        "id": "AEcERn2HV6LV"
      },
      "execution_count": 53,
      "outputs": []
    },
    {
      "cell_type": "code",
      "source": [
        "#Optimization loop. \n",
        "def optimization_loop_part_two(target, colors):\n",
        "    best_diff = -1  \n",
        "    best_colors = None\n",
        "    best_ratios = None\n",
        "    iters = 0\n",
        "\n",
        "    for [c1, c2, c3] in itertools.combinations(colors, 3): \n",
        "      #initial dummy guess. \n",
        "      initial_ratios = [random.random(), random.random(), random.random()]\n",
        "\n",
        "      #Using the Trust Regions Method from SciPy Optimize module because this is the only method that can take a callback.\n",
        "      #Callback stops the optimization (distance minimization) when the call returns True, which it does when the objective function...\n",
        "      #...returns a value below the threshold.\n",
        "\n",
        "      result = minimize(objective_func,\n",
        "                      initial_ratios,\n",
        "                      args=([c1, c2, c3], target), \n",
        "                      constraints = constraints, \n",
        "                      method='trust-constr', #Trust Regions Method\n",
        "                      callback= is_threshold_met)\n",
        "      \n",
        "      if (result.fun < best_diff or best_diff == -1):\n",
        "        best_diff = result.fun\n",
        "        best_colors = [c1, c2, c3]\n",
        "        best_ratios = result.x\n",
        "        iters = result.nfev # iterations it took to satisfy the contion.\n",
        "\n",
        "        \n",
        "\n",
        "    return ( best_diff, (best_colors[0], best_ratios[0],\n",
        "                         best_colors[1], best_ratios[1],\n",
        "                         best_colors[2], best_ratios[2]),\n",
        "            \n",
        "                         combine_colors(best_colors[0], best_ratios[0],\n",
        "                                        best_colors[1], best_ratios[1], \n",
        "                                        best_colors[2], best_ratios[2]) , \n",
        "            \n",
        "            iters)"
      ],
      "metadata": {
        "id": "9pyy6k1xdmtZ"
      },
      "execution_count": 54,
      "outputs": []
    },
    {
      "cell_type": "code",
      "source": [
        "import numpy as np\n",
        "def task_two_wrapper(num_experiments_to_average):\n",
        "  \n",
        "  my_best_distances = []\n",
        "  my_iteration_count = []\n",
        "\n",
        "  for i in range(num_experiments_to_average):\n",
        "    random.seed(i*i)\n",
        "    print(f\"Experiment {i+1}  \\n\")\n",
        "    color_options = [random_color(), random_color(), random_color(), random_color(), random_color()]\n",
        "    target_color = random_color()\n",
        "\n",
        "    print('Available 5 colors:')\n",
        "    show_colors(color_options)\n",
        "\n",
        "    best_diff, triplet_and_ratios, best_mix, num_iters = optimization_loop_part_two(target_color, color_options)\n",
        "    my_best_distances.append(best_diff)\n",
        "    my_iteration_count.append(num_iters)\n",
        "\n",
        "    if(round(best_diff, 3) <= THRESHOLD):\n",
        "      print(f'Optimum mix ratios {round(triplet_and_ratios[1], 3)}, {round(triplet_and_ratios[3],3)}, {round(triplet_and_ratios[5], 3)} ')\n",
        "      print(f'Best difference: {round(best_diff,3)}')\n",
        "      print(f'Satisfied threshold after {num_iters} of iterations!')\n",
        "    \n",
        "    else:\n",
        "      print(f'Optimum mix ratios {round(triplet_and_ratios[1], 3)}, {round(triplet_and_ratios[3],3)}, {round(triplet_and_ratios[5], 3)} ')\n",
        "      print(f'Best difference: {round(best_diff,3)} ')\n",
        "      print(f'Failed to meet the threshold with the given colors. Attemps: {num_iters}')\n",
        "\n",
        "\n",
        "    print(f'Plot: target color, three best colors, closest mix (result)' )\n",
        "    show_colors([target_color, triplet_and_ratios[0], triplet_and_ratios[2], triplet_and_ratios[4], best_mix])\n",
        "\n",
        "    print('--------------------------------')\n",
        "  "
      ],
      "metadata": {
        "id": "VRPz88VxfKjg"
      },
      "execution_count": 56,
      "outputs": []
    },
    {
      "cell_type": "markdown",
      "source": [
        "##Threshold = 30.0"
      ],
      "metadata": {
        "id": "-l-YlGIc3T1e"
      }
    },
    {
      "cell_type": "code",
      "source": [
        "THRESHOLD = 30.0\n",
        "task_two_wrapper(10)"
      ],
      "metadata": {
        "colab": {
          "base_uri": "https://localhost:8080/",
          "height": 1000
        },
        "id": "p0VqaWQQipHB",
        "outputId": "09f95d3a-7f8f-48d4-8306-e250a2d21dc7"
      },
      "execution_count": 22,
      "outputs": [
        {
          "output_type": "stream",
          "name": "stdout",
          "text": [
            "Experiment 1  \n",
            "\n",
            "Available 5 colors:\n"
          ]
        },
        {
          "output_type": "display_data",
          "data": {
            "text/plain": [
              "<Figure size 180x36 with 1 Axes>"
            ],
            "image/png": "[encoded data removed]"
          },
          "metadata": {
            "needs_background": "light"
          }
        },
        {
          "output_type": "stream",
          "name": "stderr",
          "text": [
            "/usr/local/lib/python3.7/dist-packages/scipy/optimize/_hessian_update_strategy.py:187: UserWarning: delta_grad == 0.0. Check if the approximated function is linear. If the function is linear better results can be obtained by defining the Hessian as zero instead of using quasi-Newton approximations.\n",
            "  'approximations.', UserWarning)\n"
          ]
        },
        {
          "output_type": "stream",
          "name": "stdout",
          "text": [
            "Optimum mix ratios 0.668, 0.001, 0.494 \n",
            "Best difference: 22.971\n",
            "Satisfied threshold after 4 of iterations!\n",
            "Plot: target color, three best colors, closest mix (result)\n"
          ]
        },
        {
          "output_type": "display_data",
          "data": {
            "text/plain": [
              "<Figure size 180x36 with 1 Axes>"
            ],
            "image/png": "[encoded data removed]"
          },
          "metadata": {
            "needs_background": "light"
          }
        },
        {
          "output_type": "stream",
          "name": "stdout",
          "text": [
            "--------------------------------\n",
            "Experiment 2  \n",
            "\n",
            "Available 5 colors:\n"
          ]
        },
        {
          "output_type": "display_data",
          "data": {
            "text/plain": [
              "<Figure size 180x36 with 1 Axes>"
            ],
            "image/png": "[encoded data removed]"
          },
          "metadata": {
            "needs_background": "light"
          }
        },
        {
          "output_type": "stream",
          "name": "stdout",
          "text": [
            "Optimum mix ratios 0.121, 0.333, 0.721 \n",
            "Best difference: 19.186\n",
            "Satisfied threshold after 4 of iterations!\n",
            "Plot: target color, three best colors, closest mix (result)\n"
          ]
        },
        {
          "output_type": "display_data",
          "data": {
            "text/plain": [
              "<Figure size 180x36 with 1 Axes>"
            ],
            "image/png": "[encoded data removed]"
          },
          "metadata": {
            "needs_background": "light"
          }
        },
        {
          "output_type": "stream",
          "name": "stdout",
          "text": [
            "--------------------------------\n",
            "Experiment 3  \n",
            "\n",
            "Available 5 colors:\n"
          ]
        },
        {
          "output_type": "display_data",
          "data": {
            "text/plain": [
              "<Figure size 180x36 with 1 Axes>"
            ],
            "image/png": "[encoded data removed]"
          },
          "metadata": {
            "needs_background": "light"
          }
        },
        {
          "output_type": "stream",
          "name": "stdout",
          "text": [
            "Optimum mix ratios 0.059, 0.859, 0.119 \n",
            "Best difference: 8.056\n",
            "Satisfied threshold after 12 of iterations!\n",
            "Plot: target color, three best colors, closest mix (result)\n"
          ]
        },
        {
          "output_type": "display_data",
          "data": {
            "text/plain": [
              "<Figure size 180x36 with 1 Axes>"
            ],
            "image/png": "[encoded data removed]"
          },
          "metadata": {
            "needs_background": "light"
          }
        },
        {
          "output_type": "stream",
          "name": "stdout",
          "text": [
            "--------------------------------\n",
            "Experiment 4  \n",
            "\n",
            "Available 5 colors:\n"
          ]
        },
        {
          "output_type": "display_data",
          "data": {
            "text/plain": [
              "<Figure size 180x36 with 1 Axes>"
            ],
            "image/png": "[encoded data removed]"
          },
          "metadata": {
            "needs_background": "light"
          }
        },
        {
          "output_type": "stream",
          "name": "stdout",
          "text": [
            "Optimum mix ratios 0.962, 0.035, 0.004 \n",
            "Best difference: 24.59\n",
            "Satisfied threshold after 20 of iterations!\n",
            "Plot: target color, three best colors, closest mix (result)\n"
          ]
        },
        {
          "output_type": "display_data",
          "data": {
            "text/plain": [
              "<Figure size 180x36 with 1 Axes>"
            ],
            "image/png": "[encoded data removed]"
          },
          "metadata": {
            "needs_background": "light"
          }
        },
        {
          "output_type": "stream",
          "name": "stdout",
          "text": [
            "--------------------------------\n",
            "Experiment 5  \n",
            "\n",
            "Available 5 colors:\n"
          ]
        },
        {
          "output_type": "display_data",
          "data": {
            "text/plain": [
              "<Figure size 180x36 with 1 Axes>"
            ],
            "image/png": "[encoded data removed]"
          },
          "metadata": {
            "needs_background": "light"
          }
        },
        {
          "output_type": "stream",
          "name": "stdout",
          "text": [
            "Optimum mix ratios 0.066, 0.699, 0.728 \n",
            "Best difference: 12.929\n",
            "Satisfied threshold after 4 of iterations!\n",
            "Plot: target color, three best colors, closest mix (result)\n"
          ]
        },
        {
          "output_type": "display_data",
          "data": {
            "text/plain": [
              "<Figure size 180x36 with 1 Axes>"
            ],
            "image/png": "[encoded data removed]"
          },
          "metadata": {
            "needs_background": "light"
          }
        },
        {
          "output_type": "stream",
          "name": "stdout",
          "text": [
            "--------------------------------\n",
            "Experiment 6  \n",
            "\n",
            "Available 5 colors:\n"
          ]
        },
        {
          "output_type": "display_data",
          "data": {
            "text/plain": [
              "<Figure size 180x36 with 1 Axes>"
            ],
            "image/png": "[encoded data removed]"
          },
          "metadata": {
            "needs_background": "light"
          }
        },
        {
          "output_type": "stream",
          "name": "stdout",
          "text": [
            "Optimum mix ratios 0.221, 0.424, 0.56 \n",
            "Best difference: 13.055\n",
            "Satisfied threshold after 4 of iterations!\n",
            "Plot: target color, three best colors, closest mix (result)\n"
          ]
        },
        {
          "output_type": "display_data",
          "data": {
            "text/plain": [
              "<Figure size 180x36 with 1 Axes>"
            ],
            "image/png": "[encoded data removed]"
          },
          "metadata": {
            "needs_background": "light"
          }
        },
        {
          "output_type": "stream",
          "name": "stdout",
          "text": [
            "--------------------------------\n",
            "Experiment 7  \n",
            "\n",
            "Available 5 colors:\n"
          ]
        },
        {
          "output_type": "display_data",
          "data": {
            "text/plain": [
              "<Figure size 180x36 with 1 Axes>"
            ],
            "image/png": "[encoded data removed]"
          },
          "metadata": {
            "needs_background": "light"
          }
        },
        {
          "output_type": "stream",
          "name": "stdout",
          "text": [
            "Optimum mix ratios -0.01, 0.714, 0.297 \n",
            "Best difference: 14.86\n",
            "Satisfied threshold after 12 of iterations!\n",
            "Plot: target color, three best colors, closest mix (result)\n"
          ]
        },
        {
          "output_type": "display_data",
          "data": {
            "text/plain": [
              "<Figure size 180x36 with 1 Axes>"
            ],
            "image/png": "[encoded data removed]"
          },
          "metadata": {
            "needs_background": "light"
          }
        },
        {
          "output_type": "stream",
          "name": "stdout",
          "text": [
            "--------------------------------\n",
            "Experiment 8  \n",
            "\n",
            "Available 5 colors:\n"
          ]
        },
        {
          "output_type": "display_data",
          "data": {
            "text/plain": [
              "<Figure size 180x36 with 1 Axes>"
            ],
            "image/png": "[encoded data removed]"
          },
          "metadata": {
            "needs_background": "light"
          }
        },
        {
          "output_type": "stream",
          "name": "stdout",
          "text": [
            "Optimum mix ratios 0.295, -0.0, 0.669 \n",
            "Best difference: 26.233\n",
            "Satisfied threshold after 8 of iterations!\n",
            "Plot: target color, three best colors, closest mix (result)\n"
          ]
        },
        {
          "output_type": "display_data",
          "data": {
            "text/plain": [
              "<Figure size 180x36 with 1 Axes>"
            ],
            "image/png": "[encoded data removed]"
          },
          "metadata": {
            "needs_background": "light"
          }
        },
        {
          "output_type": "stream",
          "name": "stdout",
          "text": [
            "--------------------------------\n",
            "Experiment 9  \n",
            "\n",
            "Available 5 colors:\n"
          ]
        },
        {
          "output_type": "display_data",
          "data": {
            "text/plain": [
              "<Figure size 180x36 with 1 Axes>"
            ],
            "image/png": "[encoded data removed]"
          },
          "metadata": {
            "needs_background": "light"
          }
        },
        {
          "output_type": "stream",
          "name": "stdout",
          "text": [
            "Optimum mix ratios 0.046, 0.589, 0.219 \n",
            "Best difference: 6.629\n",
            "Satisfied threshold after 4 of iterations!\n",
            "Plot: target color, three best colors, closest mix (result)\n"
          ]
        },
        {
          "output_type": "display_data",
          "data": {
            "text/plain": [
              "<Figure size 180x36 with 1 Axes>"
            ],
            "image/png": "[encoded data removed]"
          },
          "metadata": {
            "needs_background": "light"
          }
        },
        {
          "output_type": "stream",
          "name": "stdout",
          "text": [
            "--------------------------------\n",
            "Experiment 10  \n",
            "\n",
            "Available 5 colors:\n"
          ]
        },
        {
          "output_type": "display_data",
          "data": {
            "text/plain": [
              "<Figure size 180x36 with 1 Axes>"
            ],
            "image/png": "[encoded data removed]"
          },
          "metadata": {
            "needs_background": "light"
          }
        },
        {
          "output_type": "stream",
          "name": "stdout",
          "text": [
            "Optimum mix ratios 0.565, -0.027, 0.468 \n",
            "Best difference: 17.78\n",
            "Satisfied threshold after 12 of iterations!\n",
            "Plot: target color, three best colors, closest mix (result)\n"
          ]
        },
        {
          "output_type": "display_data",
          "data": {
            "text/plain": [
              "<Figure size 180x36 with 1 Axes>"
            ],
            "image/png": "[encoded data removed]"
          },
          "metadata": {
            "needs_background": "light"
          }
        },
        {
          "output_type": "stream",
          "name": "stdout",
          "text": [
            "--------------------------------\n"
          ]
        }
      ]
    },
    {
      "cell_type": "markdown",
      "source": [
        "## Medium Case: Threshold = 20.0"
      ],
      "metadata": {
        "id": "yFkCO2iP3XX9"
      }
    },
    {
      "cell_type": "code",
      "source": [
        "THRESHOLD = 20.0\n",
        "task_two_wrapper(10)"
      ],
      "metadata": {
        "id": "Zz0bY2bu3JSw",
        "colab": {
          "base_uri": "https://localhost:8080/",
          "height": 1000
        },
        "outputId": "ef751a27-120d-4e24-c378-79b3d4a2fc3f"
      },
      "execution_count": 23,
      "outputs": [
        {
          "output_type": "stream",
          "name": "stdout",
          "text": [
            "Experiment 1  \n",
            "\n",
            "Available 5 colors:\n"
          ]
        },
        {
          "output_type": "display_data",
          "data": {
            "text/plain": [
              "<Figure size 180x36 with 1 Axes>"
            ],
            "image/png": "[encoded data removed]"
          },
          "metadata": {
            "needs_background": "light"
          }
        },
        {
          "output_type": "stream",
          "name": "stderr",
          "text": [
            "/usr/local/lib/python3.7/dist-packages/scipy/optimize/_hessian_update_strategy.py:187: UserWarning: delta_grad == 0.0. Check if the approximated function is linear. If the function is linear better results can be obtained by defining the Hessian as zero instead of using quasi-Newton approximations.\n",
            "  'approximations.', UserWarning)\n"
          ]
        },
        {
          "output_type": "stream",
          "name": "stdout",
          "text": [
            "Optimum mix ratios 0.0, 0.088, 0.912 \n",
            "Best difference: 20.861 \n",
            "Failed to meet the threshold with the given colors. Attemps: 4060\n",
            "Plot: target color, three best colors, closest mix (result)\n"
          ]
        },
        {
          "output_type": "display_data",
          "data": {
            "text/plain": [
              "<Figure size 180x36 with 1 Axes>"
            ],
            "image/png": "[encoded data removed]"
          },
          "metadata": {
            "needs_background": "light"
          }
        },
        {
          "output_type": "stream",
          "name": "stdout",
          "text": [
            "--------------------------------\n",
            "Experiment 2  \n",
            "\n",
            "Available 5 colors:\n"
          ]
        },
        {
          "output_type": "display_data",
          "data": {
            "text/plain": [
              "<Figure size 180x36 with 1 Axes>"
            ],
            "image/png": "[encoded data removed]"
          },
          "metadata": {
            "needs_background": "light"
          }
        },
        {
          "output_type": "stream",
          "name": "stdout",
          "text": [
            "Optimum mix ratios 0.284, 0.019, 0.688 \n",
            "Best difference: 17.413\n",
            "Satisfied threshold after 12 of iterations!\n",
            "Plot: target color, three best colors, closest mix (result)\n"
          ]
        },
        {
          "output_type": "display_data",
          "data": {
            "text/plain": [
              "<Figure size 180x36 with 1 Axes>"
            ],
            "image/png": "[encoded data removed]"
          },
          "metadata": {
            "needs_background": "light"
          }
        },
        {
          "output_type": "stream",
          "name": "stdout",
          "text": [
            "--------------------------------\n",
            "Experiment 3  \n",
            "\n",
            "Available 5 colors:\n"
          ]
        },
        {
          "output_type": "display_data",
          "data": {
            "text/plain": [
              "<Figure size 180x36 with 1 Axes>"
            ],
            "image/png": "[encoded data removed]"
          },
          "metadata": {
            "needs_background": "light"
          }
        },
        {
          "output_type": "stream",
          "name": "stdout",
          "text": [
            "Optimum mix ratios 0.002, 0.951, 0.047 \n",
            "Best difference: 3.869\n",
            "Satisfied threshold after 20 of iterations!\n",
            "Plot: target color, three best colors, closest mix (result)\n"
          ]
        },
        {
          "output_type": "display_data",
          "data": {
            "text/plain": [
              "<Figure size 180x36 with 1 Axes>"
            ],
            "image/png": "[encoded data removed]"
          },
          "metadata": {
            "needs_background": "light"
          }
        },
        {
          "output_type": "stream",
          "name": "stdout",
          "text": [
            "--------------------------------\n",
            "Experiment 4  \n",
            "\n",
            "Available 5 colors:\n"
          ]
        },
        {
          "output_type": "display_data",
          "data": {
            "text/plain": [
              "<Figure size 180x36 with 1 Axes>"
            ],
            "image/png": "[encoded data removed]"
          },
          "metadata": {
            "needs_background": "light"
          }
        },
        {
          "output_type": "stream",
          "name": "stdout",
          "text": [
            "Optimum mix ratios 1.0, 0.0, 0.0 \n",
            "Best difference: 22.86 \n",
            "Failed to meet the threshold with the given colors. Attemps: 40\n",
            "Plot: target color, three best colors, closest mix (result)\n"
          ]
        },
        {
          "output_type": "display_data",
          "data": {
            "text/plain": [
              "<Figure size 180x36 with 1 Axes>"
            ],
            "image/png": "[encoded data removed]"
          },
          "metadata": {
            "needs_background": "light"
          }
        },
        {
          "output_type": "stream",
          "name": "stdout",
          "text": [
            "--------------------------------\n",
            "Experiment 5  \n",
            "\n",
            "Available 5 colors:\n"
          ]
        },
        {
          "output_type": "display_data",
          "data": {
            "text/plain": [
              "<Figure size 180x36 with 1 Axes>"
            ],
            "image/png": "[encoded data removed]"
          },
          "metadata": {
            "needs_background": "light"
          }
        },
        {
          "output_type": "stream",
          "name": "stdout",
          "text": [
            "Optimum mix ratios 0.066, 0.699, 0.728 \n",
            "Best difference: 12.929\n",
            "Satisfied threshold after 4 of iterations!\n",
            "Plot: target color, three best colors, closest mix (result)\n"
          ]
        },
        {
          "output_type": "display_data",
          "data": {
            "text/plain": [
              "<Figure size 180x36 with 1 Axes>"
            ],
            "image/png": "[encoded data removed]"
          },
          "metadata": {
            "needs_background": "light"
          }
        },
        {
          "output_type": "stream",
          "name": "stdout",
          "text": [
            "--------------------------------\n",
            "Experiment 6  \n",
            "\n",
            "Available 5 colors:\n"
          ]
        },
        {
          "output_type": "display_data",
          "data": {
            "text/plain": [
              "<Figure size 180x36 with 1 Axes>"
            ],
            "image/png": "[encoded data removed]"
          },
          "metadata": {
            "needs_background": "light"
          }
        },
        {
          "output_type": "stream",
          "name": "stdout",
          "text": [
            "Optimum mix ratios 0.166, 0.471, 0.377 \n",
            "Best difference: 10.102\n",
            "Satisfied threshold after 8 of iterations!\n",
            "Plot: target color, three best colors, closest mix (result)\n"
          ]
        },
        {
          "output_type": "display_data",
          "data": {
            "text/plain": [
              "<Figure size 180x36 with 1 Axes>"
            ],
            "image/png": "[encoded data removed]"
          },
          "metadata": {
            "needs_background": "light"
          }
        },
        {
          "output_type": "stream",
          "name": "stdout",
          "text": [
            "--------------------------------\n",
            "Experiment 7  \n",
            "\n",
            "Available 5 colors:\n"
          ]
        },
        {
          "output_type": "display_data",
          "data": {
            "text/plain": [
              "<Figure size 180x36 with 1 Axes>"
            ],
            "image/png": "[encoded data removed]"
          },
          "metadata": {
            "needs_background": "light"
          }
        },
        {
          "output_type": "stream",
          "name": "stdout",
          "text": [
            "Optimum mix ratios 0.001, 0.917, 0.258 \n",
            "Best difference: 12.321\n",
            "Satisfied threshold after 8 of iterations!\n",
            "Plot: target color, three best colors, closest mix (result)\n"
          ]
        },
        {
          "output_type": "display_data",
          "data": {
            "text/plain": [
              "<Figure size 180x36 with 1 Axes>"
            ],
            "image/png": "[encoded data removed]"
          },
          "metadata": {
            "needs_background": "light"
          }
        },
        {
          "output_type": "stream",
          "name": "stdout",
          "text": [
            "--------------------------------\n",
            "Experiment 8  \n",
            "\n",
            "Available 5 colors:\n"
          ]
        },
        {
          "output_type": "display_data",
          "data": {
            "text/plain": [
              "<Figure size 180x36 with 1 Axes>"
            ],
            "image/png": "[encoded data removed]"
          },
          "metadata": {
            "needs_background": "light"
          }
        },
        {
          "output_type": "stream",
          "name": "stdout",
          "text": [
            "Optimum mix ratios 0.285, 0.715, 0.0 \n",
            "Best difference: 26.752 \n",
            "Failed to meet the threshold with the given colors. Attemps: 4052\n",
            "Plot: target color, three best colors, closest mix (result)\n"
          ]
        },
        {
          "output_type": "display_data",
          "data": {
            "text/plain": [
              "<Figure size 180x36 with 1 Axes>"
            ],
            "image/png": "[encoded data removed]"
          },
          "metadata": {
            "needs_background": "light"
          }
        },
        {
          "output_type": "stream",
          "name": "stdout",
          "text": [
            "--------------------------------\n",
            "Experiment 9  \n",
            "\n",
            "Available 5 colors:\n"
          ]
        },
        {
          "output_type": "display_data",
          "data": {
            "text/plain": [
              "<Figure size 180x36 with 1 Axes>"
            ],
            "image/png": "[encoded data removed]"
          },
          "metadata": {
            "needs_background": "light"
          }
        },
        {
          "output_type": "stream",
          "name": "stdout",
          "text": [
            "Optimum mix ratios 0.046, 0.589, 0.219 \n",
            "Best difference: 6.629\n",
            "Satisfied threshold after 4 of iterations!\n",
            "Plot: target color, three best colors, closest mix (result)\n"
          ]
        },
        {
          "output_type": "display_data",
          "data": {
            "text/plain": [
              "<Figure size 180x36 with 1 Axes>"
            ],
            "image/png": "[encoded data removed]"
          },
          "metadata": {
            "needs_background": "light"
          }
        },
        {
          "output_type": "stream",
          "name": "stdout",
          "text": [
            "--------------------------------\n",
            "Experiment 10  \n",
            "\n",
            "Available 5 colors:\n"
          ]
        },
        {
          "output_type": "display_data",
          "data": {
            "text/plain": [
              "<Figure size 180x36 with 1 Axes>"
            ],
            "image/png": "[encoded data removed]"
          },
          "metadata": {
            "needs_background": "light"
          }
        },
        {
          "output_type": "stream",
          "name": "stdout",
          "text": [
            "Optimum mix ratios 0.722, 0.002, 0.277 \n",
            "Best difference: 15.639\n",
            "Satisfied threshold after 20 of iterations!\n",
            "Plot: target color, three best colors, closest mix (result)\n"
          ]
        },
        {
          "output_type": "display_data",
          "data": {
            "text/plain": [
              "<Figure size 180x36 with 1 Axes>"
            ],
            "image/png": "[encoded data removed]"
          },
          "metadata": {
            "needs_background": "light"
          }
        },
        {
          "output_type": "stream",
          "name": "stdout",
          "text": [
            "--------------------------------\n"
          ]
        }
      ]
    },
    {
      "cell_type": "markdown",
      "source": [
        "## Hard Case: Threshold = 10.0"
      ],
      "metadata": {
        "id": "S2ejUd6Y3aLZ"
      }
    },
    {
      "cell_type": "code",
      "source": [
        "THRESHOLD = 10.0\n",
        "task_two_wrapper(10)"
      ],
      "metadata": {
        "id": "aZy0wU-cwCEW",
        "colab": {
          "base_uri": "https://localhost:8080/",
          "height": 1000
        },
        "outputId": "c373351a-3664-4ca7-ae03-1cef2123c173"
      },
      "execution_count": 57,
      "outputs": [
        {
          "output_type": "stream",
          "name": "stdout",
          "text": [
            "Experiment 1  \n",
            "\n",
            "Available 5 colors:\n"
          ]
        },
        {
          "output_type": "display_data",
          "data": {
            "text/plain": [
              "<Figure size 180x36 with 1 Axes>"
            ],
            "image/png": "[encoded data removed]"
          },
          "metadata": {
            "needs_background": "light"
          }
        },
        {
          "output_type": "stream",
          "name": "stderr",
          "text": [
            "/usr/local/lib/python3.7/dist-packages/scipy/optimize/_hessian_update_strategy.py:187: UserWarning: delta_grad == 0.0. Check if the approximated function is linear. If the function is linear better results can be obtained by defining the Hessian as zero instead of using quasi-Newton approximations.\n",
            "  'approximations.', UserWarning)\n"
          ]
        },
        {
          "output_type": "stream",
          "name": "stdout",
          "text": [
            "Optimum mix ratios 0.0, 0.088, 0.912 \n",
            "Best difference: 20.861 \n",
            "Failed to meet the threshold with the given colors. Attemps: 4060\n",
            "Plot: target color, three best colors, closest mix (result)\n"
          ]
        },
        {
          "output_type": "display_data",
          "data": {
            "text/plain": [
              "<Figure size 180x36 with 1 Axes>"
            ],
            "image/png": "[encoded data removed]"
          },
          "metadata": {
            "needs_background": "light"
          }
        },
        {
          "output_type": "stream",
          "name": "stdout",
          "text": [
            "--------------------------------\n",
            "Experiment 2  \n",
            "\n",
            "Available 5 colors:\n"
          ]
        },
        {
          "output_type": "display_data",
          "data": {
            "text/plain": [
              "<Figure size 180x36 with 1 Axes>"
            ],
            "image/png": "[encoded data removed]"
          },
          "metadata": {
            "needs_background": "light"
          }
        },
        {
          "output_type": "stream",
          "name": "stdout",
          "text": [
            "Optimum mix ratios 0.354, 0.0, 0.646 \n",
            "Best difference: 16.586 \n",
            "Failed to meet the threshold with the given colors. Attemps: 60\n",
            "Plot: target color, three best colors, closest mix (result)\n"
          ]
        },
        {
          "output_type": "display_data",
          "data": {
            "text/plain": [
              "<Figure size 180x36 with 1 Axes>"
            ],
            "image/png": "[encoded data removed]"
          },
          "metadata": {
            "needs_background": "light"
          }
        },
        {
          "output_type": "stream",
          "name": "stdout",
          "text": [
            "--------------------------------\n",
            "Experiment 3  \n",
            "\n",
            "Available 5 colors:\n"
          ]
        },
        {
          "output_type": "display_data",
          "data": {
            "text/plain": [
              "<Figure size 180x36 with 1 Axes>"
            ],
            "image/png": "[encoded data removed]"
          },
          "metadata": {
            "needs_background": "light"
          }
        },
        {
          "output_type": "stream",
          "name": "stdout",
          "text": [
            "Optimum mix ratios 0.011, 0.002, 0.987 \n",
            "Best difference: 2.672\n",
            "Satisfied threshold after 20 of iterations!\n",
            "Plot: target color, three best colors, closest mix (result)\n"
          ]
        },
        {
          "output_type": "display_data",
          "data": {
            "text/plain": [
              "<Figure size 180x36 with 1 Axes>"
            ],
            "image/png": "[encoded data removed]"
          },
          "metadata": {
            "needs_background": "light"
          }
        },
        {
          "output_type": "stream",
          "name": "stdout",
          "text": [
            "--------------------------------\n",
            "Experiment 4  \n",
            "\n",
            "Available 5 colors:\n"
          ]
        },
        {
          "output_type": "display_data",
          "data": {
            "text/plain": [
              "<Figure size 180x36 with 1 Axes>"
            ],
            "image/png": "[encoded data removed]"
          },
          "metadata": {
            "needs_background": "light"
          }
        },
        {
          "output_type": "stream",
          "name": "stdout",
          "text": [
            "Optimum mix ratios 1.0, 0.0, 0.0 \n",
            "Best difference: 22.86 \n",
            "Failed to meet the threshold with the given colors. Attemps: 40\n",
            "Plot: target color, three best colors, closest mix (result)\n"
          ]
        },
        {
          "output_type": "display_data",
          "data": {
            "text/plain": [
              "<Figure size 180x36 with 1 Axes>"
            ],
            "image/png": "[encoded data removed]"
          },
          "metadata": {
            "needs_background": "light"
          }
        },
        {
          "output_type": "stream",
          "name": "stdout",
          "text": [
            "--------------------------------\n",
            "Experiment 5  \n",
            "\n",
            "Available 5 colors:\n"
          ]
        },
        {
          "output_type": "display_data",
          "data": {
            "text/plain": [
              "<Figure size 180x36 with 1 Axes>"
            ],
            "image/png": "[encoded data removed]"
          },
          "metadata": {
            "needs_background": "light"
          }
        },
        {
          "output_type": "stream",
          "name": "stdout",
          "text": [
            "Optimum mix ratios -0.106, 0.609, 0.931 \n",
            "Best difference: 8.373\n",
            "Satisfied threshold after 8 of iterations!\n",
            "Plot: target color, three best colors, closest mix (result)\n"
          ]
        },
        {
          "output_type": "display_data",
          "data": {
            "text/plain": [
              "<Figure size 180x36 with 1 Axes>"
            ],
            "image/png": "[encoded data removed]"
          },
          "metadata": {
            "needs_background": "light"
          }
        },
        {
          "output_type": "stream",
          "name": "stdout",
          "text": [
            "--------------------------------\n",
            "Experiment 6  \n",
            "\n",
            "Available 5 colors:\n"
          ]
        },
        {
          "output_type": "display_data",
          "data": {
            "text/plain": [
              "<Figure size 180x36 with 1 Axes>"
            ],
            "image/png": "[encoded data removed]"
          },
          "metadata": {
            "needs_background": "light"
          }
        },
        {
          "output_type": "stream",
          "name": "stdout",
          "text": [
            "Optimum mix ratios 0.848, 0.15, 0.002 \n",
            "Best difference: 7.131\n",
            "Satisfied threshold after 12 of iterations!\n",
            "Plot: target color, three best colors, closest mix (result)\n"
          ]
        },
        {
          "output_type": "display_data",
          "data": {
            "text/plain": [
              "<Figure size 180x36 with 1 Axes>"
            ],
            "image/png": "[encoded data removed]"
          },
          "metadata": {
            "needs_background": "light"
          }
        },
        {
          "output_type": "stream",
          "name": "stdout",
          "text": [
            "--------------------------------\n",
            "Experiment 7  \n",
            "\n",
            "Available 5 colors:\n"
          ]
        },
        {
          "output_type": "display_data",
          "data": {
            "text/plain": [
              "<Figure size 180x36 with 1 Axes>"
            ],
            "image/png": "[encoded data removed]"
          },
          "metadata": {
            "needs_background": "light"
          }
        },
        {
          "output_type": "stream",
          "name": "stdout",
          "text": [
            "Optimum mix ratios 0.146, 0.0, 0.854 \n",
            "Best difference: 14.467 \n",
            "Failed to meet the threshold with the given colors. Attemps: 348\n",
            "Plot: target color, three best colors, closest mix (result)\n"
          ]
        },
        {
          "output_type": "display_data",
          "data": {
            "text/plain": [
              "<Figure size 180x36 with 1 Axes>"
            ],
            "image/png": "[encoded data removed]"
          },
          "metadata": {
            "needs_background": "light"
          }
        },
        {
          "output_type": "stream",
          "name": "stdout",
          "text": [
            "--------------------------------\n",
            "Experiment 8  \n",
            "\n",
            "Available 5 colors:\n"
          ]
        },
        {
          "output_type": "display_data",
          "data": {
            "text/plain": [
              "<Figure size 180x36 with 1 Axes>"
            ],
            "image/png": "[encoded data removed]"
          },
          "metadata": {
            "needs_background": "light"
          }
        },
        {
          "output_type": "stream",
          "name": "stdout",
          "text": [
            "Optimum mix ratios 0.285, 0.715, 0.0 \n",
            "Best difference: 26.752 \n",
            "Failed to meet the threshold with the given colors. Attemps: 4052\n",
            "Plot: target color, three best colors, closest mix (result)\n"
          ]
        },
        {
          "output_type": "display_data",
          "data": {
            "text/plain": [
              "<Figure size 180x36 with 1 Axes>"
            ],
            "image/png": "[encoded data removed]"
          },
          "metadata": {
            "needs_background": "light"
          }
        },
        {
          "output_type": "stream",
          "name": "stdout",
          "text": [
            "--------------------------------\n",
            "Experiment 9  \n",
            "\n",
            "Available 5 colors:\n"
          ]
        },
        {
          "output_type": "display_data",
          "data": {
            "text/plain": [
              "<Figure size 180x36 with 1 Axes>"
            ],
            "image/png": "[encoded data removed]"
          },
          "metadata": {
            "needs_background": "light"
          }
        },
        {
          "output_type": "stream",
          "name": "stdout",
          "text": [
            "Optimum mix ratios 0.046, 0.589, 0.219 \n",
            "Best difference: 6.629\n",
            "Satisfied threshold after 4 of iterations!\n",
            "Plot: target color, three best colors, closest mix (result)\n"
          ]
        },
        {
          "output_type": "display_data",
          "data": {
            "text/plain": [
              "<Figure size 180x36 with 1 Axes>"
            ],
            "image/png": "[encoded data removed]"
          },
          "metadata": {
            "needs_background": "light"
          }
        },
        {
          "output_type": "stream",
          "name": "stdout",
          "text": [
            "--------------------------------\n",
            "Experiment 10  \n",
            "\n",
            "Available 5 colors:\n"
          ]
        },
        {
          "output_type": "display_data",
          "data": {
            "text/plain": [
              "<Figure size 180x36 with 1 Axes>"
            ],
            "image/png": "[encoded data removed]"
          },
          "metadata": {
            "needs_background": "light"
          }
        },
        {
          "output_type": "stream",
          "name": "stdout",
          "text": [
            "Optimum mix ratios 0.826, 0.016, 0.158 \n",
            "Best difference: 14.45 \n",
            "Failed to meet the threshold with the given colors. Attemps: 4004\n",
            "Plot: target color, three best colors, closest mix (result)\n"
          ]
        },
        {
          "output_type": "display_data",
          "data": {
            "text/plain": [
              "<Figure size 180x36 with 1 Axes>"
            ],
            "image/png": "[encoded data removed]"
          },
          "metadata": {
            "needs_background": "light"
          }
        },
        {
          "output_type": "stream",
          "name": "stdout",
          "text": [
            "--------------------------------\n"
          ]
        }
      ]
    },
    {
      "cell_type": "markdown",
      "source": [
        "##Threshold = 5"
      ],
      "metadata": {
        "id": "hhRFa8j2vEX4"
      }
    },
    {
      "cell_type": "code",
      "source": [
        "THRESHOLD = 5.0\n",
        "task_two_wrapper(10)"
      ],
      "metadata": {
        "id": "AMBapi3WwEex",
        "colab": {
          "base_uri": "https://localhost:8080/",
          "height": 1000
        },
        "outputId": "883ed07b-a5a6-4439-9ff5-50438c8ddd4e"
      },
      "execution_count": 58,
      "outputs": [
        {
          "output_type": "stream",
          "name": "stdout",
          "text": [
            "Experiment 1  \n",
            "\n",
            "Available 5 colors:\n"
          ]
        },
        {
          "output_type": "display_data",
          "data": {
            "text/plain": [
              "<Figure size 180x36 with 1 Axes>"
            ],
            "image/png": "[encoded data removed]"
          },
          "metadata": {
            "needs_background": "light"
          }
        },
        {
          "output_type": "stream",
          "name": "stderr",
          "text": [
            "/usr/local/lib/python3.7/dist-packages/scipy/optimize/_hessian_update_strategy.py:187: UserWarning: delta_grad == 0.0. Check if the approximated function is linear. If the function is linear better results can be obtained by defining the Hessian as zero instead of using quasi-Newton approximations.\n",
            "  'approximations.', UserWarning)\n"
          ]
        },
        {
          "output_type": "stream",
          "name": "stdout",
          "text": [
            "Optimum mix ratios 0.0, 0.088, 0.912 \n",
            "Best difference: 20.861 \n",
            "Failed to meet the threshold with the given colors. Attemps: 4060\n",
            "Plot: target color, three best colors, closest mix (result)\n"
          ]
        },
        {
          "output_type": "display_data",
          "data": {
            "text/plain": [
              "<Figure size 180x36 with 1 Axes>"
            ],
            "image/png": "[encoded data removed]"
          },
          "metadata": {
            "needs_background": "light"
          }
        },
        {
          "output_type": "stream",
          "name": "stdout",
          "text": [
            "--------------------------------\n",
            "Experiment 2  \n",
            "\n",
            "Available 5 colors:\n"
          ]
        },
        {
          "output_type": "display_data",
          "data": {
            "text/plain": [
              "<Figure size 180x36 with 1 Axes>"
            ],
            "image/png": "[encoded data removed]"
          },
          "metadata": {
            "needs_background": "light"
          }
        },
        {
          "output_type": "stream",
          "name": "stdout",
          "text": [
            "Optimum mix ratios 0.354, 0.0, 0.646 \n",
            "Best difference: 16.586 \n",
            "Failed to meet the threshold with the given colors. Attemps: 60\n",
            "Plot: target color, three best colors, closest mix (result)\n"
          ]
        },
        {
          "output_type": "display_data",
          "data": {
            "text/plain": [
              "<Figure size 180x36 with 1 Axes>"
            ],
            "image/png": "[encoded data removed]"
          },
          "metadata": {
            "needs_background": "light"
          }
        },
        {
          "output_type": "stream",
          "name": "stdout",
          "text": [
            "--------------------------------\n",
            "Experiment 3  \n",
            "\n",
            "Available 5 colors:\n"
          ]
        },
        {
          "output_type": "display_data",
          "data": {
            "text/plain": [
              "<Figure size 180x36 with 1 Axes>"
            ],
            "image/png": "[encoded data removed]"
          },
          "metadata": {
            "needs_background": "light"
          }
        },
        {
          "output_type": "stream",
          "name": "stdout",
          "text": [
            "Optimum mix ratios 0.011, 0.002, 0.987 \n",
            "Best difference: 2.672\n",
            "Satisfied threshold after 20 of iterations!\n",
            "Plot: target color, three best colors, closest mix (result)\n"
          ]
        },
        {
          "output_type": "display_data",
          "data": {
            "text/plain": [
              "<Figure size 180x36 with 1 Axes>"
            ],
            "image/png": "[encoded data removed]"
          },
          "metadata": {
            "needs_background": "light"
          }
        },
        {
          "output_type": "stream",
          "name": "stdout",
          "text": [
            "--------------------------------\n",
            "Experiment 4  \n",
            "\n",
            "Available 5 colors:\n"
          ]
        },
        {
          "output_type": "display_data",
          "data": {
            "text/plain": [
              "<Figure size 180x36 with 1 Axes>"
            ],
            "image/png": "[encoded data removed]"
          },
          "metadata": {
            "needs_background": "light"
          }
        },
        {
          "output_type": "stream",
          "name": "stdout",
          "text": [
            "Optimum mix ratios 1.0, 0.0, 0.0 \n",
            "Best difference: 22.86 \n",
            "Failed to meet the threshold with the given colors. Attemps: 40\n",
            "Plot: target color, three best colors, closest mix (result)\n"
          ]
        },
        {
          "output_type": "display_data",
          "data": {
            "text/plain": [
              "<Figure size 180x36 with 1 Axes>"
            ],
            "image/png": "[encoded data removed]"
          },
          "metadata": {
            "needs_background": "light"
          }
        },
        {
          "output_type": "stream",
          "name": "stdout",
          "text": [
            "--------------------------------\n",
            "Experiment 5  \n",
            "\n",
            "Available 5 colors:\n"
          ]
        },
        {
          "output_type": "display_data",
          "data": {
            "text/plain": [
              "<Figure size 180x36 with 1 Axes>"
            ],
            "image/png": "[encoded data removed]"
          },
          "metadata": {
            "needs_background": "light"
          }
        },
        {
          "output_type": "stream",
          "name": "stdout",
          "text": [
            "Optimum mix ratios 0.0, 0.0, 1.0 \n",
            "Best difference: 9.051 \n",
            "Failed to meet the threshold with the given colors. Attemps: 40\n",
            "Plot: target color, three best colors, closest mix (result)\n"
          ]
        },
        {
          "output_type": "display_data",
          "data": {
            "text/plain": [
              "<Figure size 180x36 with 1 Axes>"
            ],
            "image/png": "[encoded data removed]"
          },
          "metadata": {
            "needs_background": "light"
          }
        },
        {
          "output_type": "stream",
          "name": "stdout",
          "text": [
            "--------------------------------\n",
            "Experiment 6  \n",
            "\n",
            "Available 5 colors:\n"
          ]
        },
        {
          "output_type": "display_data",
          "data": {
            "text/plain": [
              "<Figure size 180x36 with 1 Axes>"
            ],
            "image/png": "[encoded data removed]"
          },
          "metadata": {
            "needs_background": "light"
          }
        },
        {
          "output_type": "stream",
          "name": "stdout",
          "text": [
            "Optimum mix ratios 0.467, 0.268, 0.265 \n",
            "Best difference: 6.419 \n",
            "Failed to meet the threshold with the given colors. Attemps: 332\n",
            "Plot: target color, three best colors, closest mix (result)\n"
          ]
        },
        {
          "output_type": "display_data",
          "data": {
            "text/plain": [
              "<Figure size 180x36 with 1 Axes>"
            ],
            "image/png": "[encoded data removed]"
          },
          "metadata": {
            "needs_background": "light"
          }
        },
        {
          "output_type": "stream",
          "name": "stdout",
          "text": [
            "--------------------------------\n",
            "Experiment 7  \n",
            "\n",
            "Available 5 colors:\n"
          ]
        },
        {
          "output_type": "display_data",
          "data": {
            "text/plain": [
              "<Figure size 180x36 with 1 Axes>"
            ],
            "image/png": "[encoded data removed]"
          },
          "metadata": {
            "needs_background": "light"
          }
        },
        {
          "output_type": "stream",
          "name": "stdout",
          "text": [
            "Optimum mix ratios 0.146, 0.0, 0.854 \n",
            "Best difference: 14.467 \n",
            "Failed to meet the threshold with the given colors. Attemps: 348\n",
            "Plot: target color, three best colors, closest mix (result)\n"
          ]
        },
        {
          "output_type": "display_data",
          "data": {
            "text/plain": [
              "<Figure size 180x36 with 1 Axes>"
            ],
            "image/png": "[encoded data removed]"
          },
          "metadata": {
            "needs_background": "light"
          }
        },
        {
          "output_type": "stream",
          "name": "stdout",
          "text": [
            "--------------------------------\n",
            "Experiment 8  \n",
            "\n",
            "Available 5 colors:\n"
          ]
        },
        {
          "output_type": "display_data",
          "data": {
            "text/plain": [
              "<Figure size 180x36 with 1 Axes>"
            ],
            "image/png": "[encoded data removed]"
          },
          "metadata": {
            "needs_background": "light"
          }
        },
        {
          "output_type": "stream",
          "name": "stdout",
          "text": [
            "Optimum mix ratios 0.285, 0.715, 0.0 \n",
            "Best difference: 26.752 \n",
            "Failed to meet the threshold with the given colors. Attemps: 4052\n",
            "Plot: target color, three best colors, closest mix (result)\n"
          ]
        },
        {
          "output_type": "display_data",
          "data": {
            "text/plain": [
              "<Figure size 180x36 with 1 Axes>"
            ],
            "image/png": "[encoded data removed]"
          },
          "metadata": {
            "needs_background": "light"
          }
        },
        {
          "output_type": "stream",
          "name": "stdout",
          "text": [
            "--------------------------------\n",
            "Experiment 9  \n",
            "\n",
            "Available 5 colors:\n"
          ]
        },
        {
          "output_type": "display_data",
          "data": {
            "text/plain": [
              "<Figure size 180x36 with 1 Axes>"
            ],
            "image/png": "[encoded data removed]"
          },
          "metadata": {
            "needs_background": "light"
          }
        },
        {
          "output_type": "stream",
          "name": "stdout",
          "text": [
            "Optimum mix ratios -0.009, 0.575, 0.158 \n",
            "Best difference: 4.291\n",
            "Satisfied threshold after 20 of iterations!\n",
            "Plot: target color, three best colors, closest mix (result)\n"
          ]
        },
        {
          "output_type": "display_data",
          "data": {
            "text/plain": [
              "<Figure size 180x36 with 1 Axes>"
            ],
            "image/png": "[encoded data removed]"
          },
          "metadata": {
            "needs_background": "light"
          }
        },
        {
          "output_type": "stream",
          "name": "stdout",
          "text": [
            "--------------------------------\n",
            "Experiment 10  \n",
            "\n",
            "Available 5 colors:\n"
          ]
        },
        {
          "output_type": "display_data",
          "data": {
            "text/plain": [
              "<Figure size 180x36 with 1 Axes>"
            ],
            "image/png": "[encoded data removed]"
          },
          "metadata": {
            "needs_background": "light"
          }
        },
        {
          "output_type": "stream",
          "name": "stdout",
          "text": [
            "Optimum mix ratios 0.826, 0.016, 0.158 \n",
            "Best difference: 14.45 \n",
            "Failed to meet the threshold with the given colors. Attemps: 4004\n",
            "Plot: target color, three best colors, closest mix (result)\n"
          ]
        },
        {
          "output_type": "display_data",
          "data": {
            "text/plain": [
              "<Figure size 180x36 with 1 Axes>"
            ],
            "image/png": "[encoded data removed]"
          },
          "metadata": {
            "needs_background": "light"
          }
        },
        {
          "output_type": "stream",
          "name": "stdout",
          "text": [
            "--------------------------------\n"
          ]
        }
      ]
    },
    {
      "cell_type": "markdown",
      "metadata": {
        "id": "DxDd6h5XPROr"
      },
      "source": [
        "## Comments on the assignment\n",
        "\n",
        "*  A possible extension is to learn the response function of the sensor\n",
        "*  You may consider an explore/exploit strategy\n",
        "\n",
        "\n",
        "\n"
      ]
    },
    {
      "cell_type": "code",
      "metadata": {
        "id": "Ccc7N25HPdzz"
      },
      "source": [
        ""
      ],
      "execution_count": null,
      "outputs": []
    }
  ]
}